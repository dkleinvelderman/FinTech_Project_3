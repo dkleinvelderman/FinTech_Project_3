{
 "cells": [
  {
   "cell_type": "code",
   "execution_count": 13,
   "metadata": {},
   "outputs": [],
   "source": [
    "import pandas as pd\n",
    "import numpy as np\n",
    "from pathlib import Path\n",
    "import matplotlib.pyplot as plt\n",
    "from sklearn.linear_model import LinearRegression\n",
    "from statsmodels.tsa.arima_model import ARMA\n",
    "%matplotlib inline"
   ]
  },
  {
   "cell_type": "code",
   "execution_count": 14,
   "metadata": {},
   "outputs": [
    {
     "data": {
      "text/html": [
       "<div>\n",
       "<style scoped>\n",
       "    .dataframe tbody tr th:only-of-type {\n",
       "        vertical-align: middle;\n",
       "    }\n",
       "\n",
       "    .dataframe tbody tr th {\n",
       "        vertical-align: top;\n",
       "    }\n",
       "\n",
       "    .dataframe thead th {\n",
       "        text-align: right;\n",
       "    }\n",
       "</style>\n",
       "<table border=\"1\" class=\"dataframe\">\n",
       "  <thead>\n",
       "    <tr style=\"text-align: right;\">\n",
       "      <th></th>\n",
       "      <th>BTCUSDT</th>\n",
       "      <th>EOSUSDT</th>\n",
       "      <th>ETHUSDT</th>\n",
       "      <th>LINKUSDT</th>\n",
       "      <th>LTCUSDT</th>\n",
       "    </tr>\n",
       "    <tr>\n",
       "      <th>Date</th>\n",
       "      <th></th>\n",
       "      <th></th>\n",
       "      <th></th>\n",
       "      <th></th>\n",
       "      <th></th>\n",
       "    </tr>\n",
       "  </thead>\n",
       "  <tbody>\n",
       "    <tr>\n",
       "      <th>8/30/2020 23:24</th>\n",
       "      <td>11707.26</td>\n",
       "      <td>3.2443</td>\n",
       "      <td>429.48</td>\n",
       "      <td>16.6062</td>\n",
       "      <td>62.76</td>\n",
       "    </tr>\n",
       "    <tr>\n",
       "      <th>8/30/2020 23:25</th>\n",
       "      <td>11709.59</td>\n",
       "      <td>3.2431</td>\n",
       "      <td>429.32</td>\n",
       "      <td>16.5777</td>\n",
       "      <td>62.79</td>\n",
       "    </tr>\n",
       "    <tr>\n",
       "      <th>8/30/2020 23:26</th>\n",
       "      <td>11706.45</td>\n",
       "      <td>3.2393</td>\n",
       "      <td>428.99</td>\n",
       "      <td>16.5446</td>\n",
       "      <td>62.78</td>\n",
       "    </tr>\n",
       "    <tr>\n",
       "      <th>8/30/2020 23:27</th>\n",
       "      <td>11702.11</td>\n",
       "      <td>3.2379</td>\n",
       "      <td>428.30</td>\n",
       "      <td>16.5507</td>\n",
       "      <td>62.73</td>\n",
       "    </tr>\n",
       "    <tr>\n",
       "      <th>8/30/2020 23:28</th>\n",
       "      <td>11699.99</td>\n",
       "      <td>3.2376</td>\n",
       "      <td>NaN</td>\n",
       "      <td>NaN</td>\n",
       "      <td>62.72</td>\n",
       "    </tr>\n",
       "  </tbody>\n",
       "</table>\n",
       "</div>"
      ],
      "text/plain": [
       "                  BTCUSDT  EOSUSDT  ETHUSDT  LINKUSDT  LTCUSDT\n",
       "Date                                                          \n",
       "8/30/2020 23:24  11707.26   3.2443   429.48   16.6062    62.76\n",
       "8/30/2020 23:25  11709.59   3.2431   429.32   16.5777    62.79\n",
       "8/30/2020 23:26  11706.45   3.2393   428.99   16.5446    62.78\n",
       "8/30/2020 23:27  11702.11   3.2379   428.30   16.5507    62.73\n",
       "8/30/2020 23:28  11699.99   3.2376      NaN       NaN    62.72"
      ]
     },
     "execution_count": 14,
     "metadata": {},
     "output_type": "execute_result"
    }
   ],
   "source": [
    "df = pd.read_csv(Path('df_8_30_2020.csv'))\n",
    "df.set_index('Date',inplace = True)\n",
    "df.tail()"
   ]
  },
  {
   "cell_type": "code",
   "execution_count": 15,
   "metadata": {},
   "outputs": [],
   "source": [
    "independent = 'ETHUSDT'\n",
    "dependent = 'BTCUSDT'\n",
    "\n",
    "#def generate_signals(df,independent,dependent,multiplier,f_sample):\n",
    "df = df.pct_change()\n",
    "df = df.dropna()\n",
    "df_insample = pd.DataFrame()\n",
    "residuals2_mean = []\n",
    "residuals2_std = []\n",
    "f_sample = 60 #delete this one set upas function\n",
    "result = []\n",
    "residuals2_list = []"
   ]
  },
  {
   "cell_type": "code",
   "execution_count": 16,
   "metadata": {},
   "outputs": [
    {
     "name": "stderr",
     "output_type": "stream",
     "text": [
      "C:\\Users\\juanc\\Anaconda3\\lib\\site-packages\\statsmodels\\base\\model.py:568: ConvergenceWarning: Maximum Likelihood optimization failed to converge. Check mle_retvals\n",
      "  \"Check mle_retvals\", ConvergenceWarning)\n",
      "C:\\Users\\juanc\\Anaconda3\\lib\\site-packages\\statsmodels\\base\\model.py:568: ConvergenceWarning: Maximum Likelihood optimization failed to converge. Check mle_retvals\n",
      "  \"Check mle_retvals\", ConvergenceWarning)\n",
      "C:\\Users\\juanc\\Anaconda3\\lib\\site-packages\\statsmodels\\base\\model.py:568: ConvergenceWarning: Maximum Likelihood optimization failed to converge. Check mle_retvals\n",
      "  \"Check mle_retvals\", ConvergenceWarning)\n",
      "C:\\Users\\juanc\\Anaconda3\\lib\\site-packages\\statsmodels\\base\\model.py:568: ConvergenceWarning: Maximum Likelihood optimization failed to converge. Check mle_retvals\n",
      "  \"Check mle_retvals\", ConvergenceWarning)\n",
      "C:\\Users\\juanc\\Anaconda3\\lib\\site-packages\\statsmodels\\base\\model.py:568: ConvergenceWarning: Maximum Likelihood optimization failed to converge. Check mle_retvals\n",
      "  \"Check mle_retvals\", ConvergenceWarning)\n"
     ]
    }
   ],
   "source": [
    "for n in range(f_sample): #f_sample is the out-of-sample data\n",
    "    df_insample = df.iloc[0 : len(df) - f_sample + n]\n",
    "    X = df_insample[independent].values.reshape(-1, 1)\n",
    "    y = df_insample[dependent]\n",
    "    model = LinearRegression()\n",
    "    model.fit(X, y)\n",
    "    predicted_y_values = model.predict(X)\n",
    "    residuals = df_insample.loc[:,'BTCUSDT'] - predicted_y_values\n",
    "    model_ARMA = ARMA(residuals.values, order = (1,1))\n",
    "    results = model_ARMA.fit()\n",
    "    a = results.params[0]\n",
    "    b = results.params[1]\n",
    "    c = results.params[2]\n",
    "\n",
    "    kappa = -np.log(b)\n",
    "    m = a / (1 - np.exp(-kappa))\n",
    "    residuals_shifted = residuals.shift()\n",
    "    residuals_shifted2 = residuals_shifted.shift()\n",
    "    errors = residuals_shifted - (a + b*residuals_shifted2)\n",
    "    residuals2 = residuals - (a + b*residuals_shifted + c*errors)\n",
    "    residuals2_list.append(residuals2[-1])\n",
    "    sigma_epsilon = residuals2.std()\n",
    "    df_results = pd.DataFrame()\n",
    "    multiplier = 1 # delete for function\n",
    "    df_results['signal'] = np.where(residuals2 > multiplier*sigma_epsilon, -1.0, 0.0)\n",
    "    df_results['signal'] = np.where(residuals2 < -multiplier*sigma_epsilon, 1.0, 0.0)\n",
    "    result.append(df_results.iloc[-1,0])\n",
    "            #return df_results['signal'].iloc[-1]\n",
    "\n",
    "#generate_signals(df,independent,dependent,1,50)"
   ]
  },
  {
   "cell_type": "code",
   "execution_count": 17,
   "metadata": {},
   "outputs": [],
   "source": [
    "counter = 0\n",
    "for i in range(len(result)):\n",
    "    if float(result[i]) == 1.0:\n",
    "        counter += 1"
   ]
  },
  {
   "cell_type": "code",
   "execution_count": 18,
   "metadata": {},
   "outputs": [
    {
     "data": {
      "text/plain": [
       "7"
      ]
     },
     "execution_count": 18,
     "metadata": {},
     "output_type": "execute_result"
    }
   ],
   "source": [
    "counter"
   ]
  },
  {
   "cell_type": "code",
   "execution_count": 19,
   "metadata": {},
   "outputs": [
    {
     "data": {
      "text/plain": [
       "[<matplotlib.lines.Line2D at 0x19880eed5c0>]"
      ]
     },
     "execution_count": 19,
     "metadata": {},
     "output_type": "execute_result"
    },
    {
     "data": {
      "image/png": "[encoded data removed]",
      "text/plain": [
       "<Figure size 432x288 with 1 Axes>"
      ]
     },
     "metadata": {
      "needs_background": "light"
     },
     "output_type": "display_data"
    }
   ],
   "source": [
    "plt.plot(residuals2_list)"
   ]
  },
  {
   "cell_type": "code",
   "execution_count": 20,
   "metadata": {},
   "outputs": [
    {
     "data": {
      "text/plain": [
       "0.00027313922599390516"
      ]
     },
     "execution_count": 20,
     "metadata": {},
     "output_type": "execute_result"
    }
   ],
   "source": [
    "sigma_epsilon"
   ]
  },
  {
   "cell_type": "code",
   "execution_count": null,
   "metadata": {},
   "outputs": [],
   "source": []
  }
 ],
 "metadata": {
  "kernelspec": {
   "display_name": "Python 3",
   "language": "python",
   "name": "python3"
  },
  "language_info": {
   "codemirror_mode": {
    "name": "ipython",
    "version": 3
   },
   "file_extension": ".py",
   "mimetype": "text/x-python",
   "name": "python",
   "nbconvert_exporter": "python",
   "pygments_lexer": "ipython3",
   "version": "3.7.3"
  }
 },
 "nbformat": 4,
 "nbformat_minor": 4
}
