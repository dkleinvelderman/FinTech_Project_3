{
 "cells": [
  {
   "cell_type": "code",
   "execution_count": 89,
   "metadata": {},
   "outputs": [],
   "source": [
    "import pandas as pd\n",
    "import numpy as np\n",
    "from pathlib import Path\n",
    "import matplotlib.pyplot as plt\n",
    "from sklearn.linear_model import LinearRegression\n",
    "from statsmodels.tsa.arima_model import ARMA\n",
    "%matplotlib inline"
   ]
  },
  {
   "cell_type": "code",
   "execution_count": 90,
   "metadata": {},
   "outputs": [
    {
     "data": {
      "text/html": [
       "<div>\n",
       "<style scoped>\n",
       "    .dataframe tbody tr th:only-of-type {\n",
       "        vertical-align: middle;\n",
       "    }\n",
       "\n",
       "    .dataframe tbody tr th {\n",
       "        vertical-align: top;\n",
       "    }\n",
       "\n",
       "    .dataframe thead th {\n",
       "        text-align: right;\n",
       "    }\n",
       "</style>\n",
       "<table border=\"1\" class=\"dataframe\">\n",
       "  <thead>\n",
       "    <tr style=\"text-align: right;\">\n",
       "      <th></th>\n",
       "      <th>BTCUSDT</th>\n",
       "      <th>EOSUSDT</th>\n",
       "      <th>ETHUSDT</th>\n",
       "      <th>LINKUSDT</th>\n",
       "      <th>LTCUSDT</th>\n",
       "    </tr>\n",
       "    <tr>\n",
       "      <th>Date</th>\n",
       "      <th></th>\n",
       "      <th></th>\n",
       "      <th></th>\n",
       "      <th></th>\n",
       "      <th></th>\n",
       "    </tr>\n",
       "  </thead>\n",
       "  <tbody>\n",
       "    <tr>\n",
       "      <th>8/30/2020 23:24</th>\n",
       "      <td>11707.26</td>\n",
       "      <td>3.2443</td>\n",
       "      <td>429.48</td>\n",
       "      <td>16.6062</td>\n",
       "      <td>62.76</td>\n",
       "    </tr>\n",
       "    <tr>\n",
       "      <th>8/30/2020 23:25</th>\n",
       "      <td>11709.59</td>\n",
       "      <td>3.2431</td>\n",
       "      <td>429.32</td>\n",
       "      <td>16.5777</td>\n",
       "      <td>62.79</td>\n",
       "    </tr>\n",
       "    <tr>\n",
       "      <th>8/30/2020 23:26</th>\n",
       "      <td>11706.45</td>\n",
       "      <td>3.2393</td>\n",
       "      <td>428.99</td>\n",
       "      <td>16.5446</td>\n",
       "      <td>62.78</td>\n",
       "    </tr>\n",
       "    <tr>\n",
       "      <th>8/30/2020 23:27</th>\n",
       "      <td>11702.11</td>\n",
       "      <td>3.2379</td>\n",
       "      <td>428.30</td>\n",
       "      <td>16.5507</td>\n",
       "      <td>62.73</td>\n",
       "    </tr>\n",
       "    <tr>\n",
       "      <th>8/30/2020 23:28</th>\n",
       "      <td>11699.99</td>\n",
       "      <td>3.2376</td>\n",
       "      <td>NaN</td>\n",
       "      <td>NaN</td>\n",
       "      <td>62.72</td>\n",
       "    </tr>\n",
       "  </tbody>\n",
       "</table>\n",
       "</div>"
      ],
      "text/plain": [
       "                  BTCUSDT  EOSUSDT  ETHUSDT  LINKUSDT  LTCUSDT\n",
       "Date                                                          \n",
       "8/30/2020 23:24  11707.26   3.2443   429.48   16.6062    62.76\n",
       "8/30/2020 23:25  11709.59   3.2431   429.32   16.5777    62.79\n",
       "8/30/2020 23:26  11706.45   3.2393   428.99   16.5446    62.78\n",
       "8/30/2020 23:27  11702.11   3.2379   428.30   16.5507    62.73\n",
       "8/30/2020 23:28  11699.99   3.2376      NaN       NaN    62.72"
      ]
     },
     "execution_count": 90,
     "metadata": {},
     "output_type": "execute_result"
    }
   ],
   "source": [
    "df = pd.read_csv(Path('df_8_30_2020.csv'))\n",
    "df.set_index('Date',inplace = True)\n",
    "df.tail()"
   ]
  },
  {
   "cell_type": "code",
   "execution_count": 91,
   "metadata": {},
   "outputs": [],
   "source": [
    "independent = 'ETHUSDT'\n",
    "dependent = 'BTCUSDT'\n",
    "\n",
    "#def generate_signals(df,independent,dependent,multiplier,f_sample):\n",
    "df = df.pct_change()\n",
    "df = df.dropna()\n",
    "df_insample = pd.DataFrame()\n",
    "residuals2_mean = []\n",
    "residuals2_std = []\n",
    "f_sample = 50 #delete this one set upas function\n",
    "result = []"
   ]
  },
  {
   "cell_type": "code",
   "execution_count": 92,
   "metadata": {},
   "outputs": [
    {
     "data": {
      "text/html": [
       "<div>\n",
       "<style scoped>\n",
       "    .dataframe tbody tr th:only-of-type {\n",
       "        vertical-align: middle;\n",
       "    }\n",
       "\n",
       "    .dataframe tbody tr th {\n",
       "        vertical-align: top;\n",
       "    }\n",
       "\n",
       "    .dataframe thead th {\n",
       "        text-align: right;\n",
       "    }\n",
       "</style>\n",
       "<table border=\"1\" class=\"dataframe\">\n",
       "  <thead>\n",
       "    <tr style=\"text-align: right;\">\n",
       "      <th></th>\n",
       "      <th>BTCUSDT</th>\n",
       "      <th>EOSUSDT</th>\n",
       "      <th>ETHUSDT</th>\n",
       "      <th>LINKUSDT</th>\n",
       "      <th>LTCUSDT</th>\n",
       "    </tr>\n",
       "    <tr>\n",
       "      <th>Date</th>\n",
       "      <th></th>\n",
       "      <th></th>\n",
       "      <th></th>\n",
       "      <th></th>\n",
       "      <th></th>\n",
       "    </tr>\n",
       "  </thead>\n",
       "  <tbody>\n",
       "    <tr>\n",
       "      <th>8/30/2020 22:34</th>\n",
       "      <td>0.000232</td>\n",
       "      <td>-0.000311</td>\n",
       "      <td>0.000662</td>\n",
       "      <td>0.000228</td>\n",
       "      <td>0.000162</td>\n",
       "    </tr>\n",
       "    <tr>\n",
       "      <th>8/30/2020 22:35</th>\n",
       "      <td>0.000783</td>\n",
       "      <td>0.000902</td>\n",
       "      <td>0.000520</td>\n",
       "      <td>0.000617</td>\n",
       "      <td>0.001132</td>\n",
       "    </tr>\n",
       "    <tr>\n",
       "      <th>8/30/2020 22:36</th>\n",
       "      <td>-0.000338</td>\n",
       "      <td>-0.000684</td>\n",
       "      <td>-0.000992</td>\n",
       "      <td>-0.000215</td>\n",
       "      <td>-0.000646</td>\n",
       "    </tr>\n",
       "    <tr>\n",
       "      <th>8/30/2020 22:37</th>\n",
       "      <td>-0.000115</td>\n",
       "      <td>-0.000529</td>\n",
       "      <td>-0.001702</td>\n",
       "      <td>-0.001131</td>\n",
       "      <td>-0.000485</td>\n",
       "    </tr>\n",
       "    <tr>\n",
       "      <th>8/30/2020 22:38</th>\n",
       "      <td>-0.000088</td>\n",
       "      <td>0.000218</td>\n",
       "      <td>0.000568</td>\n",
       "      <td>-0.000252</td>\n",
       "      <td>0.000323</td>\n",
       "    </tr>\n",
       "  </tbody>\n",
       "</table>\n",
       "</div>"
      ],
      "text/plain": [
       "                  BTCUSDT   EOSUSDT   ETHUSDT  LINKUSDT   LTCUSDT\n",
       "Date                                                             \n",
       "8/30/2020 22:34  0.000232 -0.000311  0.000662  0.000228  0.000162\n",
       "8/30/2020 22:35  0.000783  0.000902  0.000520  0.000617  0.001132\n",
       "8/30/2020 22:36 -0.000338 -0.000684 -0.000992 -0.000215 -0.000646\n",
       "8/30/2020 22:37 -0.000115 -0.000529 -0.001702 -0.001131 -0.000485\n",
       "8/30/2020 22:38 -0.000088  0.000218  0.000568 -0.000252  0.000323"
      ]
     },
     "execution_count": 92,
     "metadata": {},
     "output_type": "execute_result"
    }
   ],
   "source": [
    "#for n in range(f_sample): #f_sample is the out-of-sample data\n",
    "df_insample = df.iloc[0 : len(df) - f_sample + n]\n",
    "df_insample.tail()"
   ]
  },
  {
   "cell_type": "code",
   "execution_count": 93,
   "metadata": {},
   "outputs": [
    {
     "data": {
      "text/plain": [
       "array([[-0.00037927],\n",
       "       [ 0.00065765],\n",
       "       [-0.00040444],\n",
       "       ...,\n",
       "       [-0.00099197],\n",
       "       [-0.00170221],\n",
       "       [ 0.00056837]])"
      ]
     },
     "execution_count": 93,
     "metadata": {},
     "output_type": "execute_result"
    }
   ],
   "source": [
    "#X = df.ETHUSDT.values.reshape(-1, 1)\n",
    "#y = df.LTCUSDT\n",
    "X = df_insample[independent].values.reshape(-1, 1)\n",
    "y = df_insample[dependent]\n",
    "model = LinearRegression()\n",
    "X"
   ]
  },
  {
   "cell_type": "code",
   "execution_count": 94,
   "metadata": {},
   "outputs": [
    {
     "data": {
      "text/plain": [
       "LinearRegression(copy_X=True, fit_intercept=True, n_jobs=None, normalize=False)"
      ]
     },
     "execution_count": 94,
     "metadata": {},
     "output_type": "execute_result"
    }
   ],
   "source": [
    "model.fit(X, y)"
   ]
  },
  {
   "cell_type": "code",
   "execution_count": 95,
   "metadata": {},
   "outputs": [
    {
     "data": {
      "text/plain": [
       "array([-0.00014877,  0.00024249, -0.00015826, ..., -0.00037995,\n",
       "       -0.00064794,  0.0002088 ])"
      ]
     },
     "execution_count": 95,
     "metadata": {},
     "output_type": "execute_result"
    }
   ],
   "source": [
    "predicted_y_values = model.predict(X)\n",
    "predicted_y_values"
   ]
  },
  {
   "cell_type": "code",
   "execution_count": 96,
   "metadata": {},
   "outputs": [
    {
     "data": {
      "text/plain": [
       "<matplotlib.axes._subplots.AxesSubplot at 0x29166fc7668>"
      ]
     },
     "execution_count": 96,
     "metadata": {},
     "output_type": "execute_result"
    },
    {
     "data": {
      "image/png": "[encoded data removed]",
      "text/plain": [
       "<Figure size 432x288 with 1 Axes>"
      ]
     },
     "metadata": {
      "needs_background": "light"
     },
     "output_type": "display_data"
    }
   ],
   "source": [
    "residuals = df_insample.loc[:,'BTCUSDT'] - predicted_y_values\n",
    "residuals.plot()"
   ]
  },
  {
   "cell_type": "code",
   "execution_count": 97,
   "metadata": {},
   "outputs": [
    {
     "name": "stdout",
     "output_type": "stream",
     "text": [
      "1.4096811795010356e-08\n",
      "-0.10975985236327203\n"
     ]
    }
   ],
   "source": [
    "model_AR = ARMA(residuals.values, order = (1,0))\n",
    "results = model_AR.fit()\n",
    "a = results.params[0]\n",
    "b = results.params[1]\n",
    "print(a)\n",
    "print(b)"
   ]
  },
  {
   "cell_type": "code",
   "execution_count": 98,
   "metadata": {},
   "outputs": [
    {
     "name": "stderr",
     "output_type": "stream",
     "text": [
      "C:\\Users\\juanc\\Anaconda3\\lib\\site-packages\\ipykernel_launcher.py:1: RuntimeWarning: invalid value encountered in log\n",
      "  \"\"\"Entry point for launching an IPython kernel.\n"
     ]
    }
   ],
   "source": [
    "kappa = -np.log(b)\n",
    "m = a / (1 - np.exp(-kappa))\n",
    "residuals_shifted = residuals.shift()\n",
    "residuals2 = residuals - (a + b*residuals_shifted)\n",
    "residuals2_mean.append(residuals2.mean())\n",
    "residuals2_std.append(residuals2.std())\n",
    "sigma_epsilon = residuals2.std()\n",
    "df_results = pd.DataFrame()\n",
    "\n",
    "multiplier = 1 # delete for function\n",
    "\n",
    "\n",
    "df_results['signal'] = np.where(residuals2 > multiplier*sigma_epsilon, -1.0, 0.0)\n",
    "df_results['signal'] = np.where(residuals2 < -multiplier*sigma_epsilon, 1.0, 0.0)\n",
    "result.append(df_results.iloc[-1])\n",
    "    #return df_results['signal'].iloc[-1]"
   ]
  },
  {
   "cell_type": "code",
   "execution_count": 99,
   "metadata": {},
   "outputs": [
    {
     "data": {
      "text/plain": [
       "[signal    0.0\n",
       " Name: 2797, dtype: float64]"
      ]
     },
     "execution_count": 99,
     "metadata": {},
     "output_type": "execute_result"
    }
   ],
   "source": [
    "result\n",
    "#generate_signals(df,independent,dependent,1,50)"
   ]
  },
  {
   "cell_type": "code",
   "execution_count": null,
   "metadata": {},
   "outputs": [],
   "source": []
  }
 ],
 "metadata": {
  "kernelspec": {
   "display_name": "Python 3",
   "language": "python",
   "name": "python3"
  },
  "language_info": {
   "codemirror_mode": {
    "name": "ipython",
    "version": 3
   },
   "file_extension": ".py",
   "mimetype": "text/x-python",
   "name": "python",
   "nbconvert_exporter": "python",
   "pygments_lexer": "ipython3",
   "version": "3.7.3"
  }
 },
 "nbformat": 4,
 "nbformat_minor": 4
}
