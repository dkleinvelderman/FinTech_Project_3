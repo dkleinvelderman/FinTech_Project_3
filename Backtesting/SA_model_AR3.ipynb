{
 "cells": [
  {
   "cell_type": "markdown",
   "metadata": {},
   "source": [
    "# Backtesting"
   ]
  },
  {
   "cell_type": "code",
   "execution_count": 1,
   "metadata": {},
   "outputs": [],
   "source": [
    "import pandas as pd\n",
    "import numpy as np\n",
    "from pathlib import Path\n",
    "import matplotlib.pyplot as plt\n",
    "from sklearn.linear_model import LinearRegression\n",
    "from statsmodels.tsa.arima_model import ARMA\n",
    "%matplotlib inline"
   ]
  },
  {
   "cell_type": "code",
   "execution_count": 2,
   "metadata": {},
   "outputs": [
    {
     "data": {
      "text/html": [
       "<div>\n",
       "<style scoped>\n",
       "    .dataframe tbody tr th:only-of-type {\n",
       "        vertical-align: middle;\n",
       "    }\n",
       "\n",
       "    .dataframe tbody tr th {\n",
       "        vertical-align: top;\n",
       "    }\n",
       "\n",
       "    .dataframe thead th {\n",
       "        text-align: right;\n",
       "    }\n",
       "</style>\n",
       "<table border=\"1\" class=\"dataframe\">\n",
       "  <thead>\n",
       "    <tr style=\"text-align: right;\">\n",
       "      <th></th>\n",
       "      <th>BTCUSDT</th>\n",
       "      <th>EOSUSDT</th>\n",
       "      <th>ETHUSDT</th>\n",
       "      <th>LINKUSDT</th>\n",
       "      <th>LTCUSDT</th>\n",
       "    </tr>\n",
       "    <tr>\n",
       "      <th>Date</th>\n",
       "      <th></th>\n",
       "      <th></th>\n",
       "      <th></th>\n",
       "      <th></th>\n",
       "      <th></th>\n",
       "    </tr>\n",
       "  </thead>\n",
       "  <tbody>\n",
       "    <tr>\n",
       "      <th>8/30/2020 23:24</th>\n",
       "      <td>11707.26</td>\n",
       "      <td>3.2443</td>\n",
       "      <td>429.48</td>\n",
       "      <td>16.6062</td>\n",
       "      <td>62.76</td>\n",
       "    </tr>\n",
       "    <tr>\n",
       "      <th>8/30/2020 23:25</th>\n",
       "      <td>11709.59</td>\n",
       "      <td>3.2431</td>\n",
       "      <td>429.32</td>\n",
       "      <td>16.5777</td>\n",
       "      <td>62.79</td>\n",
       "    </tr>\n",
       "    <tr>\n",
       "      <th>8/30/2020 23:26</th>\n",
       "      <td>11706.45</td>\n",
       "      <td>3.2393</td>\n",
       "      <td>428.99</td>\n",
       "      <td>16.5446</td>\n",
       "      <td>62.78</td>\n",
       "    </tr>\n",
       "    <tr>\n",
       "      <th>8/30/2020 23:27</th>\n",
       "      <td>11702.11</td>\n",
       "      <td>3.2379</td>\n",
       "      <td>428.30</td>\n",
       "      <td>16.5507</td>\n",
       "      <td>62.73</td>\n",
       "    </tr>\n",
       "    <tr>\n",
       "      <th>8/30/2020 23:28</th>\n",
       "      <td>11699.99</td>\n",
       "      <td>3.2376</td>\n",
       "      <td>NaN</td>\n",
       "      <td>NaN</td>\n",
       "      <td>62.72</td>\n",
       "    </tr>\n",
       "  </tbody>\n",
       "</table>\n",
       "</div>"
      ],
      "text/plain": [
       "                  BTCUSDT  EOSUSDT  ETHUSDT  LINKUSDT  LTCUSDT\n",
       "Date                                                          \n",
       "8/30/2020 23:24  11707.26   3.2443   429.48   16.6062    62.76\n",
       "8/30/2020 23:25  11709.59   3.2431   429.32   16.5777    62.79\n",
       "8/30/2020 23:26  11706.45   3.2393   428.99   16.5446    62.78\n",
       "8/30/2020 23:27  11702.11   3.2379   428.30   16.5507    62.73\n",
       "8/30/2020 23:28  11699.99   3.2376      NaN       NaN    62.72"
      ]
     },
     "execution_count": 2,
     "metadata": {},
     "output_type": "execute_result"
    }
   ],
   "source": [
    "df = pd.read_csv(Path('df_8_30_2020.csv'))\n",
    "df.set_index('Date',inplace = True)\n",
    "df.tail()"
   ]
  },
  {
   "cell_type": "code",
   "execution_count": 3,
   "metadata": {},
   "outputs": [],
   "source": [
    "independent = 'ETHUSDT'\n",
    "dependent = 'EOSUSDT'\n",
    "\n",
    "#def generate_signals(df,independent,dependent,multiplier,f_sample):\n",
    "df = df.pct_change()\n",
    "df = df.dropna()\n",
    "df_insample = pd.DataFrame()\n",
    "residuals2_mean = []\n",
    "residuals2_std = []\n",
    "f_sample = 2500 #delete this one set upas function\n",
    "result = []\n",
    "residuals2_list = []"
   ]
  },
  {
   "cell_type": "code",
   "execution_count": 4,
   "metadata": {},
   "outputs": [
    {
     "name": "stderr",
     "output_type": "stream",
     "text": [
      "C:\\Users\\juanc\\Anaconda3\\lib\\site-packages\\statsmodels\\base\\model.py:568: ConvergenceWarning: Maximum Likelihood optimization failed to converge. Check mle_retvals\n",
      "  \"Check mle_retvals\", ConvergenceWarning)\n",
      "C:\\Users\\juanc\\Anaconda3\\lib\\site-packages\\statsmodels\\base\\model.py:568: ConvergenceWarning: Maximum Likelihood optimization failed to converge. Check mle_retvals\n",
      "  \"Check mle_retvals\", ConvergenceWarning)\n",
      "C:\\Users\\juanc\\Anaconda3\\lib\\site-packages\\statsmodels\\base\\model.py:568: ConvergenceWarning: Maximum Likelihood optimization failed to converge. Check mle_retvals\n",
      "  \"Check mle_retvals\", ConvergenceWarning)\n",
      "C:\\Users\\juanc\\Anaconda3\\lib\\site-packages\\statsmodels\\base\\model.py:568: ConvergenceWarning: Maximum Likelihood optimization failed to converge. Check mle_retvals\n",
      "  \"Check mle_retvals\", ConvergenceWarning)\n",
      "C:\\Users\\juanc\\Anaconda3\\lib\\site-packages\\statsmodels\\base\\model.py:568: ConvergenceWarning: Maximum Likelihood optimization failed to converge. Check mle_retvals\n",
      "  \"Check mle_retvals\", ConvergenceWarning)\n",
      "C:\\Users\\juanc\\Anaconda3\\lib\\site-packages\\statsmodels\\base\\model.py:568: ConvergenceWarning: Maximum Likelihood optimization failed to converge. Check mle_retvals\n",
      "  \"Check mle_retvals\", ConvergenceWarning)\n",
      "C:\\Users\\juanc\\Anaconda3\\lib\\site-packages\\statsmodels\\base\\model.py:568: ConvergenceWarning: Maximum Likelihood optimization failed to converge. Check mle_retvals\n",
      "  \"Check mle_retvals\", ConvergenceWarning)\n",
      "C:\\Users\\juanc\\Anaconda3\\lib\\site-packages\\statsmodels\\base\\model.py:568: ConvergenceWarning: Maximum Likelihood optimization failed to converge. Check mle_retvals\n",
      "  \"Check mle_retvals\", ConvergenceWarning)\n",
      "C:\\Users\\juanc\\Anaconda3\\lib\\site-packages\\statsmodels\\base\\model.py:568: ConvergenceWarning: Maximum Likelihood optimization failed to converge. Check mle_retvals\n",
      "  \"Check mle_retvals\", ConvergenceWarning)\n",
      "C:\\Users\\juanc\\Anaconda3\\lib\\site-packages\\statsmodels\\base\\model.py:568: ConvergenceWarning: Maximum Likelihood optimization failed to converge. Check mle_retvals\n",
      "  \"Check mle_retvals\", ConvergenceWarning)\n",
      "C:\\Users\\juanc\\Anaconda3\\lib\\site-packages\\statsmodels\\base\\model.py:568: ConvergenceWarning: Maximum Likelihood optimization failed to converge. Check mle_retvals\n",
      "  \"Check mle_retvals\", ConvergenceWarning)\n",
      "C:\\Users\\juanc\\Anaconda3\\lib\\site-packages\\statsmodels\\base\\model.py:568: ConvergenceWarning: Maximum Likelihood optimization failed to converge. Check mle_retvals\n",
      "  \"Check mle_retvals\", ConvergenceWarning)\n",
      "C:\\Users\\juanc\\Anaconda3\\lib\\site-packages\\statsmodels\\base\\model.py:568: ConvergenceWarning: Maximum Likelihood optimization failed to converge. Check mle_retvals\n",
      "  \"Check mle_retvals\", ConvergenceWarning)\n",
      "C:\\Users\\juanc\\Anaconda3\\lib\\site-packages\\statsmodels\\base\\model.py:568: ConvergenceWarning: Maximum Likelihood optimization failed to converge. Check mle_retvals\n",
      "  \"Check mle_retvals\", ConvergenceWarning)\n",
      "C:\\Users\\juanc\\Anaconda3\\lib\\site-packages\\statsmodels\\base\\model.py:568: ConvergenceWarning: Maximum Likelihood optimization failed to converge. Check mle_retvals\n",
      "  \"Check mle_retvals\", ConvergenceWarning)\n",
      "C:\\Users\\juanc\\Anaconda3\\lib\\site-packages\\statsmodels\\base\\model.py:568: ConvergenceWarning: Maximum Likelihood optimization failed to converge. Check mle_retvals\n",
      "  \"Check mle_retvals\", ConvergenceWarning)\n"
     ]
    }
   ],
   "source": [
    "for n in range(f_sample): #f_sample is the out-of-sample data\n",
    "    df_insample = df.iloc[0 : len(df) - f_sample + n]\n",
    "    df_insample.tail()\n",
    "\n",
    "    X = df_insample[independent].values.reshape(-1, 1)\n",
    "    y = df_insample[dependent]\n",
    "    model = LinearRegression()\n",
    "    model.fit(X, y)\n",
    "    predicted_y_values = model.predict(X)\n",
    "    residuals = df_insample.loc[:,'EOSUSDT'] - predicted_y_values\n",
    "    model_AR = ARMA(residuals.values, order = (1,0))\n",
    "    results = model_AR.fit()\n",
    "    a = results.params[0]\n",
    "    b = results.params[1]\n",
    "    kappa = -np.log((abs(b)))\n",
    "    m = a / (1 - np.exp(-kappa))\n",
    "    residuals_shifted = residuals.shift()\n",
    "    residuals2 = residuals - (a + b*residuals_shifted)\n",
    "    residuals2_list.append(residuals2[-1])\n",
    "    sigma_epsilon = residuals2.std()\n",
    "    df_results = pd.DataFrame()\n",
    "    multiplier = 2.5 # delete for function\n",
    "    \n",
    "    if residuals2[-1] > multiplier*sigma_epsilon:\n",
    "        result.append(-1.0)\n",
    "        \n",
    "    elif residuals2[-1] < -multiplier*sigma_epsilon:\n",
    "        result.append(1.0)\n",
    "        \n",
    "    else:\n",
    "        result.append(0.0)\n",
    "        "
   ]
  },
  {
   "cell_type": "code",
   "execution_count": 5,
   "metadata": {},
   "outputs": [
    {
     "data": {
      "text/plain": [
       "69"
      ]
     },
     "execution_count": 5,
     "metadata": {},
     "output_type": "execute_result"
    }
   ],
   "source": [
    "counter = 0\n",
    "for i in range(len(result)):\n",
    "    if float(result[i]) != 0.0:\n",
    "        counter += 1\n",
    "counter        "
   ]
  },
  {
   "cell_type": "code",
   "execution_count": 6,
   "metadata": {},
   "outputs": [
    {
     "data": {
      "text/plain": [
       "[<matplotlib.lines.Line2D at 0x12f8ad993c8>]"
      ]
     },
     "execution_count": 6,
     "metadata": {},
     "output_type": "execute_result"
    },
    {
     "data": {
      "image/png": "[encoded data removed]",
      "text/plain": [
       "<Figure size 432x288 with 1 Axes>"
      ]
     },
     "metadata": {
      "needs_background": "light"
     },
     "output_type": "display_data"
    }
   ],
   "source": [
    "plt.plot(residuals2_list)"
   ]
  },
  {
   "cell_type": "code",
   "execution_count": 7,
   "metadata": {},
   "outputs": [
    {
     "data": {
      "text/plain": [
       "0.0006402045253201801"
      ]
     },
     "execution_count": 7,
     "metadata": {},
     "output_type": "execute_result"
    }
   ],
   "source": [
    "sigma_epsilon"
   ]
  },
  {
   "cell_type": "code",
   "execution_count": 18,
   "metadata": {},
   "outputs": [
    {
     "data": {
      "text/html": [
       "<div>\n",
       "<style scoped>\n",
       "    .dataframe tbody tr th:only-of-type {\n",
       "        vertical-align: middle;\n",
       "    }\n",
       "\n",
       "    .dataframe tbody tr th {\n",
       "        vertical-align: top;\n",
       "    }\n",
       "\n",
       "    .dataframe thead th {\n",
       "        text-align: right;\n",
       "    }\n",
       "</style>\n",
       "<table border=\"1\" class=\"dataframe\">\n",
       "  <thead>\n",
       "    <tr style=\"text-align: right;\">\n",
       "      <th></th>\n",
       "      <th>BTCUSDT</th>\n",
       "      <th>EOSUSDT</th>\n",
       "      <th>ETHUSDT</th>\n",
       "      <th>LINKUSDT</th>\n",
       "      <th>LTCUSDT</th>\n",
       "    </tr>\n",
       "    <tr>\n",
       "      <th>Date</th>\n",
       "      <th></th>\n",
       "      <th></th>\n",
       "      <th></th>\n",
       "      <th></th>\n",
       "      <th></th>\n",
       "    </tr>\n",
       "  </thead>\n",
       "  <tbody>\n",
       "    <tr>\n",
       "      <th>8/30/2020 23:24</th>\n",
       "      <td>0.000845</td>\n",
       "      <td>0.002069</td>\n",
       "      <td>0.002006</td>\n",
       "      <td>0.002911</td>\n",
       "      <td>0.004160</td>\n",
       "    </tr>\n",
       "    <tr>\n",
       "      <th>8/30/2020 23:25</th>\n",
       "      <td>0.000199</td>\n",
       "      <td>-0.000370</td>\n",
       "      <td>-0.000373</td>\n",
       "      <td>-0.001716</td>\n",
       "      <td>0.000478</td>\n",
       "    </tr>\n",
       "    <tr>\n",
       "      <th>8/30/2020 23:26</th>\n",
       "      <td>-0.000268</td>\n",
       "      <td>-0.001172</td>\n",
       "      <td>-0.000769</td>\n",
       "      <td>-0.001997</td>\n",
       "      <td>-0.000159</td>\n",
       "    </tr>\n",
       "    <tr>\n",
       "      <th>8/30/2020 23:27</th>\n",
       "      <td>-0.000371</td>\n",
       "      <td>-0.000432</td>\n",
       "      <td>-0.001608</td>\n",
       "      <td>0.000369</td>\n",
       "      <td>-0.000796</td>\n",
       "    </tr>\n",
       "    <tr>\n",
       "      <th>8/30/2020 23:28</th>\n",
       "      <td>-0.000181</td>\n",
       "      <td>-0.000093</td>\n",
       "      <td>0.000000</td>\n",
       "      <td>0.000000</td>\n",
       "      <td>-0.000159</td>\n",
       "    </tr>\n",
       "  </tbody>\n",
       "</table>\n",
       "</div>"
      ],
      "text/plain": [
       "                  BTCUSDT   EOSUSDT   ETHUSDT  LINKUSDT   LTCUSDT\n",
       "Date                                                             \n",
       "8/30/2020 23:24  0.000845  0.002069  0.002006  0.002911  0.004160\n",
       "8/30/2020 23:25  0.000199 -0.000370 -0.000373 -0.001716  0.000478\n",
       "8/30/2020 23:26 -0.000268 -0.001172 -0.000769 -0.001997 -0.000159\n",
       "8/30/2020 23:27 -0.000371 -0.000432 -0.001608  0.000369 -0.000796\n",
       "8/30/2020 23:28 -0.000181 -0.000093  0.000000  0.000000 -0.000159"
      ]
     },
     "execution_count": 18,
     "metadata": {},
     "output_type": "execute_result"
    }
   ],
   "source": [
    "df_outsample = df.tail(f_sample)\n",
    "df_outsample.tail()"
   ]
  },
  {
   "cell_type": "code",
   "execution_count": 9,
   "metadata": {},
   "outputs": [],
   "source": [
    "pnl = []\n",
    "btc_signal = 0.0\n",
    "eth_signal = 0.0\n",
    "for i in range(len(result)):\n",
    "    \n",
    "    pnl.append(df_outsample.iloc[i,0]*btc_signal + df_outsample.iloc[i,2]*eth_signal)\n",
    "    \n",
    "    if float(result[i]) == -1.0:\n",
    "        btc_signal = 1.0\n",
    "        eth_signal = -1.0\n",
    "    elif float(result[i]) == 1.0:     \n",
    "        btc_signal = -1.0\n",
    "        eth_signal = 1.0 \n",
    "    else:\n",
    "        btc_signal = 0.0\n",
    "        eth_signal = 0.0"
   ]
  },
  {
   "cell_type": "code",
   "execution_count": 20,
   "metadata": {},
   "outputs": [
    {
     "data": {
      "text/plain": [
       "5633.460797981437"
      ]
     },
     "execution_count": 20,
     "metadata": {},
     "output_type": "execute_result"
    }
   ],
   "source": [
    "sum(pnl)*1000000"
   ]
  },
  {
   "cell_type": "code",
   "execution_count": 11,
   "metadata": {},
   "outputs": [
    {
     "data": {
      "text/plain": [
       "0.0022761683706689073"
      ]
     },
     "execution_count": 11,
     "metadata": {},
     "output_type": "execute_result"
    }
   ],
   "source": [
    "max(pnl)"
   ]
  },
  {
   "cell_type": "code",
   "execution_count": 12,
   "metadata": {},
   "outputs": [
    {
     "data": {
      "text/plain": [
       "-0.0032015236686653292"
      ]
     },
     "execution_count": 12,
     "metadata": {},
     "output_type": "execute_result"
    }
   ],
   "source": [
    "min(pnl)"
   ]
  },
  {
   "cell_type": "code",
   "execution_count": 13,
   "metadata": {},
   "outputs": [],
   "source": [
    "p_count = 0\n",
    "n_count = 0\n",
    "for n in range(len(pnl)):\n",
    "    if pnl[n] > 0:\n",
    "        p_count += 1\n",
    "    elif pnl[n] < 0:\n",
    "        n_count +=1"
   ]
  },
  {
   "cell_type": "code",
   "execution_count": 14,
   "metadata": {},
   "outputs": [
    {
     "data": {
      "text/plain": [
       "34"
      ]
     },
     "execution_count": 14,
     "metadata": {},
     "output_type": "execute_result"
    }
   ],
   "source": [
    "p_count"
   ]
  },
  {
   "cell_type": "code",
   "execution_count": 15,
   "metadata": {},
   "outputs": [
    {
     "data": {
      "text/plain": [
       "35"
      ]
     },
     "execution_count": 15,
     "metadata": {},
     "output_type": "execute_result"
    }
   ],
   "source": [
    "n_count"
   ]
  }
 ],
 "metadata": {
  "kernelspec": {
   "display_name": "Python 3",
   "language": "python",
   "name": "python3"
  },
  "language_info": {
   "codemirror_mode": {
    "name": "ipython",
    "version": 3
   },
   "file_extension": ".py",
   "mimetype": "text/x-python",
   "name": "python",
   "nbconvert_exporter": "python",
   "pygments_lexer": "ipython3",
   "version": "3.7.3"
  }
 },
 "nbformat": 4,
 "nbformat_minor": 4
}
