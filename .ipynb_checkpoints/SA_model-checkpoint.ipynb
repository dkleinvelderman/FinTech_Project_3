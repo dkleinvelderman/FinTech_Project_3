{
 "cells": [
  {
   "cell_type": "code",
   "execution_count": 90,
   "metadata": {},
   "outputs": [],
   "source": [
    "import pandas as pd\n",
    "import numpy as np\n",
    "from pathlib import Path\n",
    "import matplotlib.pyplot as plt\n",
    "from sklearn.linear_model import LinearRegression\n",
    "from statsmodels.tsa.arima_model import ARMA\n",
    "%matplotlib inline"
   ]
  },
  {
   "cell_type": "code",
   "execution_count": 91,
   "metadata": {},
   "outputs": [],
   "source": [
    "df = pd.read_csv(Path('4_coins.csv'))\n",
    "df.set_index('Date',inplace = True)"
   ]
  },
  {
   "cell_type": "code",
   "execution_count": 92,
   "metadata": {},
   "outputs": [],
   "source": [
    "df = df.pct_change()"
   ]
  },
  {
   "cell_type": "code",
   "execution_count": 93,
   "metadata": {},
   "outputs": [],
   "source": [
    "df = df.dropna()"
   ]
  },
  {
   "cell_type": "code",
   "execution_count": 94,
   "metadata": {},
   "outputs": [
    {
     "data": {
      "text/html": [
       "<div>\n",
       "<style scoped>\n",
       "    .dataframe tbody tr th:only-of-type {\n",
       "        vertical-align: middle;\n",
       "    }\n",
       "\n",
       "    .dataframe tbody tr th {\n",
       "        vertical-align: top;\n",
       "    }\n",
       "\n",
       "    .dataframe thead th {\n",
       "        text-align: right;\n",
       "    }\n",
       "</style>\n",
       "<table border=\"1\" class=\"dataframe\">\n",
       "  <thead>\n",
       "    <tr style=\"text-align: right;\">\n",
       "      <th></th>\n",
       "      <th>EOSUSDT</th>\n",
       "      <th>ETHUSDT</th>\n",
       "      <th>LINKUSDT</th>\n",
       "      <th>LTCUSDT</th>\n",
       "    </tr>\n",
       "    <tr>\n",
       "      <th>Date</th>\n",
       "      <th></th>\n",
       "      <th></th>\n",
       "      <th></th>\n",
       "      <th></th>\n",
       "    </tr>\n",
       "  </thead>\n",
       "  <tbody>\n",
       "    <tr>\n",
       "      <th>8/20/2020 0:01</th>\n",
       "      <td>0.002985</td>\n",
       "      <td>0.003769</td>\n",
       "      <td>0.002465</td>\n",
       "      <td>0.003537</td>\n",
       "    </tr>\n",
       "    <tr>\n",
       "      <th>8/20/2020 0:02</th>\n",
       "      <td>0.000000</td>\n",
       "      <td>0.001146</td>\n",
       "      <td>0.000000</td>\n",
       "      <td>-0.000160</td>\n",
       "    </tr>\n",
       "    <tr>\n",
       "      <th>8/20/2020 0:03</th>\n",
       "      <td>0.000000</td>\n",
       "      <td>-0.000219</td>\n",
       "      <td>0.002459</td>\n",
       "      <td>0.003846</td>\n",
       "    </tr>\n",
       "    <tr>\n",
       "      <th>8/20/2020 0:04</th>\n",
       "      <td>0.002976</td>\n",
       "      <td>0.002338</td>\n",
       "      <td>0.000613</td>\n",
       "      <td>0.001756</td>\n",
       "    </tr>\n",
       "    <tr>\n",
       "      <th>8/20/2020 0:05</th>\n",
       "      <td>0.000000</td>\n",
       "      <td>0.000462</td>\n",
       "      <td>0.002451</td>\n",
       "      <td>-0.003346</td>\n",
       "    </tr>\n",
       "  </tbody>\n",
       "</table>\n",
       "</div>"
      ],
      "text/plain": [
       "                 EOSUSDT   ETHUSDT  LINKUSDT   LTCUSDT\n",
       "Date                                                  \n",
       "8/20/2020 0:01  0.002985  0.003769  0.002465  0.003537\n",
       "8/20/2020 0:02  0.000000  0.001146  0.000000 -0.000160\n",
       "8/20/2020 0:03  0.000000 -0.000219  0.002459  0.003846\n",
       "8/20/2020 0:04  0.002976  0.002338  0.000613  0.001756\n",
       "8/20/2020 0:05  0.000000  0.000462  0.002451 -0.003346"
      ]
     },
     "execution_count": 94,
     "metadata": {},
     "output_type": "execute_result"
    }
   ],
   "source": [
    "df.head()"
   ]
  },
  {
   "cell_type": "code",
   "execution_count": 128,
   "metadata": {},
   "outputs": [],
   "source": [
    "# define forecasting sample\n",
    "f_sample = 50\n",
    "df_insample = pd.DataFrame()\n",
    "S = []\n",
    "residuals2_mean = []\n",
    "residuals2_std = []\n",
    "count = 0"
   ]
  },
  {
   "cell_type": "code",
   "execution_count": 136,
   "metadata": {},
   "outputs": [
    {
     "name": "stdout",
     "output_type": "stream",
     "text": [
      "0\n",
      "3932\n",
      "don't trade\n",
      "number of trading signals is 11\n",
      "1\n",
      "3933\n",
      "don't trade\n",
      "number of trading signals is 11\n",
      "2\n",
      "3934\n",
      "don't trade\n",
      "number of trading signals is 11\n",
      "3\n",
      "3935\n",
      "don't trade\n",
      "number of trading signals is 11\n",
      "4\n",
      "3936\n",
      "don't trade\n",
      "number of trading signals is 11\n",
      "5\n",
      "3937\n",
      "don't trade\n",
      "number of trading signals is 11\n",
      "6\n",
      "3938\n",
      "don't trade\n",
      "number of trading signals is 11\n",
      "7\n",
      "3939\n",
      "don't trade\n",
      "number of trading signals is 11\n",
      "8\n",
      "3940\n",
      "don't trade\n",
      "number of trading signals is 11\n",
      "9\n",
      "3941\n",
      "don't trade\n",
      "number of trading signals is 11\n",
      "10\n",
      "3942\n",
      "don't trade\n",
      "number of trading signals is 11\n",
      "11\n",
      "3943\n",
      "don't trade\n",
      "number of trading signals is 11\n",
      "12\n",
      "3944\n",
      "don't trade\n",
      "number of trading signals is 11\n",
      "13\n",
      "3945\n",
      "don't trade\n",
      "number of trading signals is 11\n",
      "14\n",
      "3946\n",
      "don't trade\n",
      "number of trading signals is 11\n",
      "15\n",
      "3947\n",
      "don't trade\n",
      "number of trading signals is 11\n",
      "16\n",
      "3948\n",
      "don't trade\n",
      "number of trading signals is 11\n",
      "17\n",
      "3949\n",
      "don't trade\n",
      "number of trading signals is 11\n",
      "18\n",
      "3950\n",
      "don't trade\n",
      "number of trading signals is 11\n",
      "19\n",
      "3951\n",
      "don't trade\n",
      "number of trading signals is 11\n",
      "20\n",
      "3952\n",
      "don't trade\n",
      "number of trading signals is 11\n",
      "21\n",
      "3953\n",
      "don't trade\n",
      "number of trading signals is 11\n",
      "22\n",
      "3954\n",
      "don't trade\n",
      "number of trading signals is 11\n",
      "23\n",
      "3955\n",
      "don't trade\n",
      "number of trading signals is 11\n",
      "24\n",
      "3956\n",
      "don't trade\n",
      "number of trading signals is 11\n",
      "25\n",
      "3957\n",
      "don't trade\n",
      "number of trading signals is 11\n",
      "26\n",
      "3958\n",
      "don't trade\n",
      "number of trading signals is 11\n",
      "27\n",
      "3959\n",
      "don't trade\n",
      "number of trading signals is 11\n",
      "28\n",
      "3960\n",
      "don't trade\n",
      "number of trading signals is 11\n",
      "29\n",
      "3961\n",
      "don't trade\n",
      "number of trading signals is 11\n",
      "30\n",
      "3962\n",
      "don't trade\n",
      "number of trading signals is 11\n",
      "31\n",
      "3963\n",
      "don't trade\n",
      "number of trading signals is 11\n",
      "32\n",
      "3964\n",
      "don't trade\n",
      "number of trading signals is 11\n",
      "33\n",
      "3965\n",
      "don't trade\n",
      "number of trading signals is 11\n",
      "34\n",
      "3966\n",
      "don't trade\n",
      "number of trading signals is 11\n",
      "35\n",
      "3967\n",
      "don't trade\n",
      "number of trading signals is 11\n",
      "36\n",
      "3968\n",
      "don't trade\n",
      "number of trading signals is 11\n",
      "37\n",
      "3969\n",
      "don't trade\n",
      "number of trading signals is 11\n",
      "38\n",
      "3970\n",
      "don't trade\n",
      "number of trading signals is 11\n",
      "39\n",
      "3971\n",
      "don't trade\n",
      "number of trading signals is 11\n",
      "40\n",
      "3972\n",
      "don't trade\n",
      "number of trading signals is 11\n",
      "41\n",
      "3973\n",
      "don't trade\n",
      "number of trading signals is 11\n",
      "42\n",
      "3974\n",
      "don't trade\n",
      "number of trading signals is 11\n",
      "43\n",
      "3975\n",
      "don't trade\n",
      "number of trading signals is 11\n",
      "44\n",
      "3976\n",
      "don't trade\n",
      "number of trading signals is 11\n",
      "45\n",
      "3977\n",
      "don't trade\n",
      "number of trading signals is 11\n",
      "46\n",
      "3978\n",
      "don't trade\n",
      "number of trading signals is 11\n",
      "47\n",
      "3979\n",
      "don't trade\n",
      "number of trading signals is 11\n",
      "48\n",
      "3980\n",
      "don't trade\n",
      "number of trading signals is 11\n",
      "49\n",
      "3981\n",
      "don't trade\n",
      "number of trading signals is 11\n"
     ]
    }
   ],
   "source": [
    "for n in range(f_sample): #f_sample is the out-of-sample data\n",
    "    df_insample = df.iloc[0 : len(df) - f_sample + n]\n",
    "    X = df_insample.ETHUSDT.values.reshape(-1, 1)\n",
    "    y = df_insample.LTCUSDT\n",
    "    model = LinearRegression()\n",
    "    model.fit(X, y)\n",
    "    predicted_y_values = model.predict(X)\n",
    "    residuals = df_insample.loc[:,'ETHUSDT'] - predicted_y_values\n",
    "    model_AR = ARMA(residuals.values, order = (1,0))\n",
    "    results = model_AR.fit()\n",
    "    a = results.params[0]\n",
    "    b = results.params[1]\n",
    "    kappa = -np.log(b)\n",
    "    m = a / (1 - np.exp(-kappa))\n",
    "    residuals_shifted = residuals.shift()\n",
    "    residuals2 = residuals - (a + b*residuals_shifted)\n",
    "    residuals2_mean.append(residuals2.mean())\n",
    "    residuals2_std.append(residuals2.std())\n",
    "    sigma_epsilon = residuals2.std()\n",
    "    sigma = sigma_epsilon / np.sqrt( (1 - np.exp(-2*kappa))/(2*kappa))\n",
    "    S.append(- m*np.sqrt(2*kappa)/sigma)     \n",
    "    print(n)\n",
    "    print(len(residuals2))\n",
    "    if abs(residuals2[-1]) > 1*residuals2_std[n]:\n",
    "        print('trade')\n",
    "        count +=1\n",
    "    else:\n",
    "        print(\"don't trade\")\n",
    "    print(f'number of trading signals is {count}')        "
   ]
  },
  {
   "cell_type": "code",
   "execution_count": 137,
   "metadata": {},
   "outputs": [
    {
     "data": {
      "text/plain": [
       "-1.7394228069800812e-08"
      ]
     },
     "execution_count": 137,
     "metadata": {},
     "output_type": "execute_result"
    }
   ],
   "source": [
    "residuals2_mean[-1]"
   ]
  },
  {
   "cell_type": "code",
   "execution_count": 138,
   "metadata": {},
   "outputs": [
    {
     "data": {
      "text/plain": [
       "6.945509425866998e-05"
      ]
     },
     "execution_count": 138,
     "metadata": {},
     "output_type": "execute_result"
    }
   ],
   "source": [
    "residuals2_std[-1]"
   ]
  },
  {
   "cell_type": "code",
   "execution_count": 139,
   "metadata": {},
   "outputs": [
    {
     "data": {
      "text/plain": [
       "0.01754897966667536"
      ]
     },
     "execution_count": 139,
     "metadata": {},
     "output_type": "execute_result"
    }
   ],
   "source": [
    "S[-1]"
   ]
  },
  {
   "cell_type": "code",
   "execution_count": 140,
   "metadata": {},
   "outputs": [
    {
     "data": {
      "text/plain": [
       "2.229926122424174e-05"
      ]
     },
     "execution_count": 140,
     "metadata": {},
     "output_type": "execute_result"
    }
   ],
   "source": [
    "residuals2[-1]"
   ]
  },
  {
   "cell_type": "code",
   "execution_count": 141,
   "metadata": {},
   "outputs": [
    {
     "data": {
      "text/plain": [
       "<matplotlib.axes._subplots.AxesSubplot at 0x1ece1193a20>"
      ]
     },
     "execution_count": 141,
     "metadata": {},
     "output_type": "execute_result"
    },
    {
     "data": {
      "image/png": "[encoded data removed]",
      "text/plain": [
       "<Figure size 1440x720 with 1 Axes>"
      ]
     },
     "metadata": {
      "needs_background": "light"
     },
     "output_type": "display_data"
    }
   ],
   "source": [
    "residuals2.iloc[-50:].plot(figsize = [20,10])"
   ]
  },
  {
   "cell_type": "code",
   "execution_count": 142,
   "metadata": {},
   "outputs": [
    {
     "data": {
      "text/plain": [
       "[0.0008103193435991833,\n",
       " 0.0008102585903257492,\n",
       " 0.000810452541624669,\n",
       " 0.0008103693280685019,\n",
       " 0.0008104132964944342,\n",
       " 0.0008103576496351974,\n",
       " 0.0008103874332658924,\n",
       " 0.0008103209239450804,\n",
       " 0.0008102399004819866,\n",
       " 0.0008101396209310468,\n",
       " 0.0008101408062604763,\n",
       " 0.0008100443223761301,\n",
       " 0.0008101387602236297,\n",
       " 0.0008100363338022797,\n",
       " 0.0008101194738995289,\n",
       " 0.0008103187834017622,\n",
       " 0.000810325488246297,\n",
       " 0.0008102881742176189,\n",
       " 0.000810206538527207,\n",
       " 0.0008101087876946704,\n",
       " 0.0008100546747474764,\n",
       " 0.000809995757213306,\n",
       " 0.0008099067942188221,\n",
       " 0.0008098294104146548,\n",
       " 0.0008099915689726097,\n",
       " 0.0008098924458182569,\n",
       " 0.0008098090368468646,\n",
       " 0.0008098501196749895,\n",
       " 0.0008097479634156208,\n",
       " 0.0008096516433888139,\n",
       " 0.0008095553444267111,\n",
       " 0.0008094543055293078,\n",
       " 0.0008093599448878406,\n",
       " 0.0008092285767940136,\n",
       " 0.0008091061689905827,\n",
       " 0.0008090164586730055,\n",
       " 0.0008089149052721542,\n",
       " 0.0008088580062226178,\n",
       " 0.0008087088696911534,\n",
       " 0.0008086219379431142,\n",
       " 0.0008085372423988111,\n",
       " 0.0008083928776278768,\n",
       " 0.0008082954098568444,\n",
       " 0.0008081939083318983,\n",
       " 0.0008081392142855151,\n",
       " 0.0008080677170449728,\n",
       " 0.0008079361559174811,\n",
       " 0.0008078750040441518,\n",
       " 0.0008084998209081473,\n",
       " 0.0008084048101320228,\n",
       " 6.733410093802042e-05,\n",
       " 6.742632393403795e-05,\n",
       " 6.749932631016858e-05,\n",
       " 6.74550842318817e-05,\n",
       " 6.750368948539051e-05,\n",
       " 6.749358012492737e-05,\n",
       " 6.74651289220755e-05,\n",
       " 6.746388283470093e-05,\n",
       " 6.743993038045245e-05,\n",
       " 6.745669796325888e-05,\n",
       " 6.753049070102659e-05,\n",
       " 6.75533931397808e-05,\n",
       " 6.768922642795845e-05,\n",
       " 6.76763830229753e-05,\n",
       " 6.753292060813831e-05,\n",
       " 6.772722884434797e-05,\n",
       " 6.786065898502848e-05,\n",
       " 6.79005017507709e-05,\n",
       " 6.798335329864518e-05,\n",
       " 6.795311348593822e-05,\n",
       " 6.792530067839632e-05,\n",
       " 6.795972147136409e-05,\n",
       " 6.79708493660955e-05,\n",
       " 6.797568564511624e-05,\n",
       " 6.81734356670646e-05,\n",
       " 6.823353245149157e-05,\n",
       " 6.824974409697729e-05,\n",
       " 6.846840176886272e-05,\n",
       " 6.847338404455926e-05,\n",
       " 6.843525442012598e-05,\n",
       " 6.840432881126246e-05,\n",
       " 6.838924854422811e-05,\n",
       " 6.843049227115657e-05,\n",
       " 6.849742128644032e-05,\n",
       " 6.850822489420737e-05,\n",
       " 6.851450814956125e-05,\n",
       " 6.851892460305776e-05,\n",
       " 6.850897505228028e-05,\n",
       " 6.870281942404178e-05,\n",
       " 6.868582373016176e-05,\n",
       " 6.868987262991094e-05,\n",
       " 6.879816903619243e-05,\n",
       " 6.880833621487445e-05,\n",
       " 6.880108643919649e-05,\n",
       " 6.884228307714033e-05,\n",
       " 6.876556313277484e-05,\n",
       " 6.880356933018186e-05,\n",
       " 6.88927454225737e-05,\n",
       " 6.946164389130905e-05,\n",
       " 6.945509425866998e-05]"
      ]
     },
     "execution_count": 142,
     "metadata": {},
     "output_type": "execute_result"
    }
   ],
   "source": [
    "residuals2_std"
   ]
  },
  {
   "cell_type": "code",
   "execution_count": null,
   "metadata": {},
   "outputs": [],
   "source": []
  },
  {
   "cell_type": "code",
   "execution_count": null,
   "metadata": {},
   "outputs": [],
   "source": []
  }
 ],
 "metadata": {
  "kernelspec": {
   "display_name": "Python 3",
   "language": "python",
   "name": "python3"
  },
  "language_info": {
   "codemirror_mode": {
    "name": "ipython",
    "version": 3
   },
   "file_extension": ".py",
   "mimetype": "text/x-python",
   "name": "python",
   "nbconvert_exporter": "python",
   "pygments_lexer": "ipython3",
   "version": "3.7.3"
  }
 },
 "nbformat": 4,
 "nbformat_minor": 4
}
