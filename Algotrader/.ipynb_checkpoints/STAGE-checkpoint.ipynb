{
 "cells": [
  {
   "cell_type": "code",
   "execution_count": 11,
   "metadata": {},
   "outputs": [],
   "source": [
    "import os\n",
    "import numpy as np\n",
    "import pandas as pd\n",
    "import ccxt\n",
    "import asyncio\n",
    "import sqlite3\n",
    "\n",
    "import hvplot.streamz\n",
    "from streamz import Stream\n",
    "from streamz.dataframe import DataFrame\n",
    "import panel as pn\n",
    "\n",
    "pn.extension()"
   ]
  },
  {
   "cell_type": "code",
   "execution_count": 12,
   "metadata": {},
   "outputs": [],
   "source": [
    "def fetch_data():\n",
    "    \"\"\"Fetches the latest prices.\"\"\"\n",
    "#     kraken_public_key = os.getenv(\"KRAKEN_PUBLIC_KEY\")\n",
    "#     kraken_secret_key = os.getenv(\"KRAKEN_SECRET_KEY\")\n",
    "    binance = ccxt.binance({\"apiKey\": \"BINANCE_PUBLIC_KEY\", \"secret\": \"BINANCE_SECRET_KEY\"})\n",
    "\n",
    "    close = binance.fetch_ticker(\"ETH/USDT\")[\"close\"]\n",
    "    datetime = binance.fetch_ticker(\"ETH/USDT\")[\"datetime\"]\n",
    "    df = pd.DataFrame({\"close\": [close]})\n",
    "    df.index = pd.to_datetime([datetime])\n",
    "    return df"
   ]
  },
  {
   "cell_type": "code",
   "execution_count": 13,
   "metadata": {},
   "outputs": [
    {
     "data": {
      "text/html": [
       "<div>\n",
       "<style scoped>\n",
       "    .dataframe tbody tr th:only-of-type {\n",
       "        vertical-align: middle;\n",
       "    }\n",
       "\n",
       "    .dataframe tbody tr th {\n",
       "        vertical-align: top;\n",
       "    }\n",
       "\n",
       "    .dataframe thead th {\n",
       "        text-align: right;\n",
       "    }\n",
       "</style>\n",
       "<table border=\"1\" class=\"dataframe\">\n",
       "  <thead>\n",
       "    <tr style=\"text-align: right;\">\n",
       "      <th></th>\n",
       "      <th>close</th>\n",
       "    </tr>\n",
       "  </thead>\n",
       "  <tbody>\n",
       "    <tr>\n",
       "      <th>2020-08-28 01:03:52.536000+00:00</th>\n",
       "      <td>383.55</td>\n",
       "    </tr>\n",
       "  </tbody>\n",
       "</table>\n",
       "</div>"
      ],
      "text/plain": [
       "                                   close\n",
       "2020-08-28 01:03:52.536000+00:00  383.55"
      ]
     },
     "execution_count": 13,
     "metadata": {},
     "output_type": "execute_result"
    }
   ],
   "source": [
    "fetch_data()"
   ]
  },
  {
   "cell_type": "code",
   "execution_count": 14,
   "metadata": {},
   "outputs": [
    {
     "data": {
      "text/plain": [
       "str"
      ]
     },
     "execution_count": 14,
     "metadata": {},
     "output_type": "execute_result"
    }
   ],
   "source": [
    "type(\"BINANCE_SECRET_KEY\")"
   ]
  },
  {
   "cell_type": "code",
   "execution_count": 7,
   "metadata": {},
   "outputs": [],
   "source": [
    "def fetch_data():\n",
    "    \"\"\"Fetches the latest prices.\"\"\"\n",
    "#     kraken_public_key = os.getenv(\"KRAKEN_PUBLIC_KEY\")\n",
    "#     kraken_secret_key = os.getenv(\"KRAKEN_SECRET_KEY\")\n",
    "\n",
    "    binance = ccxt.binance({\"apiKey\": \"BINANCE_PUBLIC_KEY\", \"secret\": \"BINANCE_SECRET_KEY\"})\n",
    "\n",
    "    close = binance.fetch_tickers([\"ETH/USDT\", \"LTC/USDT\"])[\"close\"]\n",
    "    datetime = binance.fetch_tickers([\"ETH/USDT\", \"LTC/USDT\"])[\"datetime\"]\n",
    "    df = pd.DataFrame({\"close\": [close]})\n",
    "    df.index = pd.to_datetime([datetime])\n",
    "    return df\n",
    "\n",
    "# def fetch_data2():\n",
    "#     \"\"\"Fetches the latest prices.\"\"\"\n",
    "# #     kraken_public_key = os.getenv(\"KRAKEN_PUBLIC_KEY\")\n",
    "# #     kraken_secret_key = os.getenv(\"KRAKEN_SECRET_KEY\")\n",
    "\n",
    "#     binance = ccxt.binance({\"apiKey\": \"BINANCE_PUBLIC_KEY\", \"secret\": \"BINANCE_SECRET_KEY\"})\n",
    "\n",
    "#     close = binance.fetch_ticker(\"LTC/USDT\")[\"close\"]\n",
    "#     datetime = binance.fetch_ticker(\"LTC/USDT\")[\"datetime\"]\n",
    "#     df2 = pd.DataFrame({\"close\": [close]})\n",
    "#     df2.index = pd.to_datetime([datetime])\n",
    "#     return df2"
   ]
  },
  {
   "cell_type": "code",
   "execution_count": 17,
   "metadata": {},
   "outputs": [
    {
     "data": {
      "text/plain": [
       "{'ETH/USDT': {'symbol': 'ETH/USDT',\n",
       "  'timestamp': 1598576650632,\n",
       "  'datetime': '2020-08-28T01:04:10.632Z',\n",
       "  'high': 397.1,\n",
       "  'low': 371.48,\n",
       "  'bid': 383.61,\n",
       "  'bidVolume': 14.25618,\n",
       "  'ask': 383.63,\n",
       "  'askVolume': 2.889,\n",
       "  'vwap': 383.34122627,\n",
       "  'open': 387.69,\n",
       "  'close': 383.61,\n",
       "  'last': 383.61,\n",
       "  'previousClose': 387.67,\n",
       "  'change': -4.08,\n",
       "  'percentage': -1.052,\n",
       "  'average': None,\n",
       "  'baseVolume': 886288.7088,\n",
       "  'quoteVolume': 339751000.4601447,\n",
       "  'info': {'symbol': 'ETHUSDT',\n",
       "   'priceChange': '-4.08000000',\n",
       "   'priceChangePercent': '-1.052',\n",
       "   'weightedAvgPrice': '383.34122627',\n",
       "   'prevClosePrice': '387.67000000',\n",
       "   'lastPrice': '383.61000000',\n",
       "   'lastQty': '0.06075000',\n",
       "   'bidPrice': '383.61000000',\n",
       "   'bidQty': '14.25618000',\n",
       "   'askPrice': '383.63000000',\n",
       "   'askQty': '2.88900000',\n",
       "   'openPrice': '387.69000000',\n",
       "   'highPrice': '397.10000000',\n",
       "   'lowPrice': '371.48000000',\n",
       "   'volume': '886288.70880000',\n",
       "   'quoteVolume': '339751000.46014470',\n",
       "   'openTime': 1598490250632,\n",
       "   'closeTime': 1598576650632,\n",
       "   'firstId': 177391810,\n",
       "   'lastId': 177787876,\n",
       "   'count': 396067}},\n",
       " 'LTC/USDT': {'symbol': 'LTC/USDT',\n",
       "  'timestamp': 1598576649477,\n",
       "  'datetime': '2020-08-28T01:04:09.477Z',\n",
       "  'high': 59.24,\n",
       "  'low': 53.91,\n",
       "  'bid': 55.83,\n",
       "  'bidVolume': 8.666,\n",
       "  'ask': 55.84,\n",
       "  'askVolume': 6.11471,\n",
       "  'vwap': 56.48066413,\n",
       "  'open': 58.44,\n",
       "  'close': 55.86,\n",
       "  'last': 55.86,\n",
       "  'previousClose': 58.44,\n",
       "  'change': -2.58,\n",
       "  'percentage': -4.415,\n",
       "  'average': None,\n",
       "  'baseVolume': 997196.17199,\n",
       "  'quoteVolume': 56322302.0638894,\n",
       "  'info': {'symbol': 'LTCUSDT',\n",
       "   'priceChange': '-2.58000000',\n",
       "   'priceChangePercent': '-4.415',\n",
       "   'weightedAvgPrice': '56.48066413',\n",
       "   'prevClosePrice': '58.44000000',\n",
       "   'lastPrice': '55.86000000',\n",
       "   'lastQty': '25.32985000',\n",
       "   'bidPrice': '55.83000000',\n",
       "   'bidQty': '8.66600000',\n",
       "   'askPrice': '55.84000000',\n",
       "   'askQty': '6.11471000',\n",
       "   'openPrice': '58.44000000',\n",
       "   'highPrice': '59.24000000',\n",
       "   'lowPrice': '53.91000000',\n",
       "   'volume': '997196.17199000',\n",
       "   'quoteVolume': '56322302.06388940',\n",
       "   'openTime': 1598490249477,\n",
       "   'closeTime': 1598576649477,\n",
       "   'firstId': 55982265,\n",
       "   'lastId': 56074115,\n",
       "   'count': 91851}}}"
      ]
     },
     "execution_count": 17,
     "metadata": {},
     "output_type": "execute_result"
    }
   ],
   "source": [
    "binance = ccxt.binance({\"apiKey\": \"BINANCE_PUBLIC_KEY\", \"secret\": \"BINANCE_SECRET_KEY\"})\n",
    "df = binance.fetch_tickers([\"ETH/USDT\",\"LTC/USDT\"])\n",
    "df"
   ]
  },
  {
   "cell_type": "code",
   "execution_count": 34,
   "metadata": {},
   "outputs": [
    {
     "data": {
      "text/html": [
       "<div>\n",
       "<style scoped>\n",
       "    .dataframe tbody tr th:only-of-type {\n",
       "        vertical-align: middle;\n",
       "    }\n",
       "\n",
       "    .dataframe tbody tr th {\n",
       "        vertical-align: top;\n",
       "    }\n",
       "\n",
       "    .dataframe thead th {\n",
       "        text-align: right;\n",
       "    }\n",
       "</style>\n",
       "<table border=\"1\" class=\"dataframe\">\n",
       "  <thead>\n",
       "    <tr style=\"text-align: right;\">\n",
       "      <th></th>\n",
       "      <th>ETH/USDT</th>\n",
       "      <th>LTC/USDT</th>\n",
       "    </tr>\n",
       "  </thead>\n",
       "  <tbody>\n",
       "    <tr>\n",
       "      <th>close</th>\n",
       "      <td>383.61</td>\n",
       "      <td>55.86</td>\n",
       "    </tr>\n",
       "  </tbody>\n",
       "</table>\n",
       "</div>"
      ],
      "text/plain": [
       "      ETH/USDT LTC/USDT\n",
       "close   383.61    55.86"
      ]
     },
     "execution_count": 34,
     "metadata": {},
     "output_type": "execute_result"
    }
   ],
   "source": [
    "df = pd.DataFrame(df).T\n",
    "df.T\n"
   ]
  },
  {
   "cell_type": "code",
   "execution_count": null,
   "metadata": {},
   "outputs": [],
   "source": [
    "print(df[\"ETH/USDT\"]['close'],[\"LTC/USDT\"]['close'])"
   ]
  },
  {
   "cell_type": "code",
   "execution_count": null,
   "metadata": {},
   "outputs": [],
   "source": [
    "print(df[\"LTC/USDT\"]['close'])"
   ]
  },
  {
   "cell_type": "code",
   "execution_count": null,
   "metadata": {},
   "outputs": [],
   "source": [
    "close_df = pd.DataFrame"
   ]
  },
  {
   "cell_type": "code",
   "execution_count": null,
   "metadata": {},
   "outputs": [],
   "source": [
    "close_df"
   ]
  },
  {
   "cell_type": "code",
   "execution_count": null,
   "metadata": {},
   "outputs": [],
   "source": [
    "fetch_data()"
   ]
  },
  {
   "cell_type": "code",
   "execution_count": 9,
   "metadata": {},
   "outputs": [
    {
     "ename": "NameError",
     "evalue": "name 'fetch_data2' is not defined",
     "output_type": "error",
     "traceback": [
      "\u001b[0;31m---------------------------------------------------------------------------\u001b[0m",
      "\u001b[0;31mNameError\u001b[0m                                 Traceback (most recent call last)",
      "\u001b[0;32m<ipython-input-9-bb6fbed61541>\u001b[0m in \u001b[0;36m<module>\u001b[0;34m\u001b[0m\n\u001b[0;32m----> 1\u001b[0;31m \u001b[0;32mfor\u001b[0m \u001b[0mn\u001b[0m \u001b[0;32min\u001b[0m \u001b[0mrange\u001b[0m\u001b[0;34m(\u001b[0m\u001b[0mfetch_data\u001b[0m\u001b[0;34m,\u001b[0m \u001b[0mfetch_data2\u001b[0m\u001b[0;34m)\u001b[0m\u001b[0;34m:\u001b[0m \u001b[0;31m#f_sample is the out-of-sample data\u001b[0m\u001b[0;34m\u001b[0m\u001b[0;34m\u001b[0m\u001b[0m\n\u001b[0m\u001b[1;32m      2\u001b[0m \u001b[0;31m#     df_insample = df.iloc[0 : len(df) - f_sample + n]\u001b[0m\u001b[0;34m\u001b[0m\u001b[0;34m\u001b[0m\u001b[0;34m\u001b[0m\u001b[0m\n\u001b[1;32m      3\u001b[0m     \u001b[0mX\u001b[0m \u001b[0;34m=\u001b[0m \u001b[0mfetch_data\u001b[0m\u001b[0;34m.\u001b[0m\u001b[0mETHUSDT\u001b[0m\u001b[0;34m.\u001b[0m\u001b[0mvalues\u001b[0m\u001b[0;34m.\u001b[0m\u001b[0mreshape\u001b[0m\u001b[0;34m(\u001b[0m\u001b[0;34m-\u001b[0m\u001b[0;36m1\u001b[0m\u001b[0;34m,\u001b[0m \u001b[0;36m1\u001b[0m\u001b[0;34m)\u001b[0m\u001b[0;34m\u001b[0m\u001b[0;34m\u001b[0m\u001b[0m\n\u001b[1;32m      4\u001b[0m     \u001b[0my\u001b[0m \u001b[0;34m=\u001b[0m \u001b[0mfetch_data2\u001b[0m\u001b[0;34m.\u001b[0m\u001b[0mLTCUSDT\u001b[0m\u001b[0;34m\u001b[0m\u001b[0;34m\u001b[0m\u001b[0m\n\u001b[1;32m      5\u001b[0m     \u001b[0mmodel\u001b[0m \u001b[0;34m=\u001b[0m \u001b[0mLinearRegression\u001b[0m\u001b[0;34m(\u001b[0m\u001b[0;34m)\u001b[0m\u001b[0;34m\u001b[0m\u001b[0;34m\u001b[0m\u001b[0m\n",
      "\u001b[0;31mNameError\u001b[0m: name 'fetch_data2' is not defined"
     ]
    }
   ],
   "source": [
    "for n in range(fetch_data, fetch_data2): #f_sample is the out-of-sample data\n",
    "#     df_insample = df.iloc[0 : len(df) - f_sample + n]\n",
    "    X = fetch_data.ETHUSDT.values.reshape(-1, 1)\n",
    "    y = fetch_data2.LTCUSDT\n",
    "    model = LinearRegression()\n",
    "    model.fit(X, y)\n",
    "    predicted_y_values = model.predict(X)\n",
    "    residuals = fetch_data - predicted_y_values\n",
    "    model_AR = ARMA(residuals.values, order = (1,0))\n",
    "    results = model_AR.fit()\n",
    "    a = results.params[0]\n",
    "    b = results.params[1]\n",
    "    kappa = -np.log(b)\n",
    "    m = a / (1 - np.exp(-kappa))\n",
    "    residuals_shifted = residuals.shift()\n",
    "    residuals2 = residuals - (a + b*residuals_shifted)\n",
    "    residuals2_mean.append(residuals2.mean())\n",
    "    residuals2_std.append(residuals2.std())\n",
    "    sigma_epsilon = residuals2.std()\n",
    "    sigma = sigma_epsilon / np.sqrt( (1 - np.exp(-2*kappa))/(2*kappa))\n",
    "    S.append(- m*np.sqrt(2*kappa)/sigma)"
   ]
  },
  {
   "cell_type": "code",
   "execution_count": null,
   "metadata": {},
   "outputs": [],
   "source": []
  },
  {
   "cell_type": "code",
   "execution_count": null,
   "metadata": {},
   "outputs": [],
   "source": []
  }
 ],
 "metadata": {
  "kernelspec": {
   "display_name": "Python 3",
   "language": "python",
   "name": "python3"
  },
  "language_info": {
   "codemirror_mode": {
    "name": "ipython",
    "version": 3
   },
   "file_extension": ".py",
   "mimetype": "text/x-python",
   "name": "python",
   "nbconvert_exporter": "python",
   "pygments_lexer": "ipython3",
   "version": "3.7.7"
  }
 },
 "nbformat": 4,
 "nbformat_minor": 4
}
