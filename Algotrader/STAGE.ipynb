{
 "cells": [
  {
   "cell_type": "code",
   "execution_count": 38,
   "metadata": {},
   "outputs": [],
   "source": [
    "import os\n",
    "import numpy as np\n",
    "import pandas as pd\n",
    "import ccxt\n",
    "import asyncio\n",
    "import sqlite3\n",
    "\n",
    "import hvplot.streamz\n",
    "from streamz import Stream\n",
    "from streamz.dataframe import DataFrame\n",
    "import panel as pn\n",
    "\n",
    "pn.extension()"
   ]
  },
  {
   "cell_type": "code",
   "execution_count": null,
   "metadata": {},
   "outputs": [],
   "source": [
    "def fetch_data():\n",
    "    \"\"\"Fetches the latest prices.\"\"\"\n",
    "#     kraken_public_key = os.getenv(\"KRAKEN_PUBLIC_KEY\")\n",
    "#     kraken_secret_key = os.getenv(\"KRAKEN_SECRET_KEY\")\n",
    "    binance = ccxt.binance({\"apiKey\": \"BINANCE_PUBLIC_KEY\", \"secret\": \"BINANCE_SECRET_KEY\"})\n",
    "\n",
    "    close = binance.fetch_ticker(\"ETH/USDT\")[\"close\"]\n",
    "    datetime = binance.fetch_ticker(\"ETH/USDT\")[\"datetime\"]\n",
    "    df = pd.DataFrame({\"close\": [close]})\n",
    "    df.index = pd.to_datetime([datetime])\n",
    "    return df"
   ]
  },
  {
   "cell_type": "code",
   "execution_count": null,
   "metadata": {},
   "outputs": [],
   "source": [
    "fetch_data()"
   ]
  },
  {
   "cell_type": "code",
   "execution_count": 39,
   "metadata": {},
   "outputs": [
    {
     "data": {
      "text/plain": [
       "str"
      ]
     },
     "execution_count": 39,
     "metadata": {},
     "output_type": "execute_result"
    }
   ],
   "source": [
    "type(\"BINANCE_SECRET_KEY\")"
   ]
  },
  {
   "cell_type": "code",
   "execution_count": null,
   "metadata": {},
   "outputs": [],
   "source": [
    "def fetch_data():\n",
    "    \"\"\"Fetches the latest prices.\"\"\"\n",
    "#     kraken_public_key = os.getenv(\"KRAKEN_PUBLIC_KEY\")\n",
    "#     kraken_secret_key = os.getenv(\"KRAKEN_SECRET_KEY\")\n",
    "\n",
    "    binance = ccxt.binance({\"apiKey\": \"BINANCE_PUBLIC_KEY\", \"secret\": \"BINANCE_SECRET_KEY\"})\n",
    "\n",
    "    close = binance.fetch_tickers([\"ETH/USDT\", \"LTC/USDT\"])[\"close\"]\n",
    "    datetime = binance.fetch_tickers([\"ETH/USDT\", \"LTC/USDT\"])[\"datetime\"]\n",
    "    df = pd.DataFrame({\"close\": [close]})\n",
    "    df.index = pd.to_datetime([datetime])\n",
    "    return df\n",
    "\n",
    "# def fetch_data2():\n",
    "#     \"\"\"Fetches the latest prices.\"\"\"\n",
    "# #     kraken_public_key = os.getenv(\"KRAKEN_PUBLIC_KEY\")\n",
    "# #     kraken_secret_key = os.getenv(\"KRAKEN_SECRET_KEY\")\n",
    "\n",
    "#     binance = ccxt.binance({\"apiKey\": \"BINANCE_PUBLIC_KEY\", \"secret\": \"BINANCE_SECRET_KEY\"})\n",
    "\n",
    "#     close = binance.fetch_ticker(\"LTC/USDT\")[\"close\"]\n",
    "#     datetime = binance.fetch_ticker(\"LTC/USDT\")[\"datetime\"]\n",
    "#     df2 = pd.DataFrame({\"close\": [close]})\n",
    "#     df2.index = pd.to_datetime([datetime])\n",
    "#     return df2"
   ]
  },
  {
   "cell_type": "code",
   "execution_count": null,
   "metadata": {},
   "outputs": [],
   "source": [
    "binance = ccxt.binance({\"apiKey\": \"BINANCE_PUBLIC_KEY\", \"secret\": \"BINANCE_SECRET_KEY\"})\n",
    "df = binance.fetch_tickers([\"ETH/USDT\",\"LTC/USDT\"])\n",
    "df"
   ]
  },
  {
   "cell_type": "code",
   "execution_count": null,
   "metadata": {},
   "outputs": [],
   "source": [
    "df = pd.DataFrame(df).T\n",
    "df.T\n"
   ]
  },
  {
   "cell_type": "code",
   "execution_count": null,
   "metadata": {},
   "outputs": [],
   "source": [
    "print(df[\"ETH/USDT\"]['close'],[\"LTC/USDT\"]['close'])"
   ]
  },
  {
   "cell_type": "code",
   "execution_count": null,
   "metadata": {},
   "outputs": [],
   "source": [
    "print(df[\"LTC/USDT\"]['close'])"
   ]
  },
  {
   "cell_type": "code",
   "execution_count": null,
   "metadata": {},
   "outputs": [],
   "source": [
    "close_df = pd.DataFrame"
   ]
  },
  {
   "cell_type": "code",
   "execution_count": null,
   "metadata": {},
   "outputs": [],
   "source": [
    "close_df"
   ]
  },
  {
   "cell_type": "code",
   "execution_count": null,
   "metadata": {},
   "outputs": [],
   "source": [
    "fetch_data()"
   ]
  },
  {
   "cell_type": "code",
   "execution_count": null,
   "metadata": {},
   "outputs": [],
   "source": [
    "for n in range(fetch_data, fetch_data2): #f_sample is the out-of-sample data\n",
    "#     df_insample = df.iloc[0 : len(df) - f_sample + n]\n",
    "    X = fetch_data.ETHUSDT.values.reshape(-1, 1)\n",
    "    y = fetch_data2.LTCUSDT\n",
    "    model = LinearRegression()\n",
    "    model.fit(X, y)\n",
    "    predicted_y_values = model.predict(X)\n",
    "    residuals = fetch_data - predicted_y_values\n",
    "    model_AR = ARMA(residuals.values, order = (1,0))\n",
    "    results = model_AR.fit()\n",
    "    a = results.params[0]\n",
    "    b = results.params[1]\n",
    "    kappa = -np.log(b)\n",
    "    m = a / (1 - np.exp(-kappa))\n",
    "    residuals_shifted = residuals.shift()\n",
    "    residuals2 = residuals - (a + b*residuals_shifted)\n",
    "    residuals2_mean.append(residuals2.mean())\n",
    "    residuals2_std.append(residuals2.std())\n",
    "    sigma_epsilon = residuals2.std()\n",
    "    sigma = sigma_epsilon / np.sqrt( (1 - np.exp(-2*kappa))/(2*kappa))\n",
    "    S.append(- m*np.sqrt(2*kappa)/sigma)"
   ]
  },
  {
   "cell_type": "code",
   "execution_count": null,
   "metadata": {},
   "outputs": [],
   "source": []
  },
  {
   "cell_type": "code",
   "execution_count": null,
   "metadata": {},
   "outputs": [],
   "source": []
  }
 ],
 "metadata": {
  "kernelspec": {
   "display_name": "Python 3",
   "language": "python",
   "name": "python3"
  },
  "language_info": {
   "codemirror_mode": {
    "name": "ipython",
    "version": 3
   },
   "file_extension": ".py",
   "mimetype": "text/x-python",
   "name": "python",
   "nbconvert_exporter": "python",
   "pygments_lexer": "ipython3",
   "version": "3.7.7"
  }
 },
 "nbformat": 4,
 "nbformat_minor": 4
}
