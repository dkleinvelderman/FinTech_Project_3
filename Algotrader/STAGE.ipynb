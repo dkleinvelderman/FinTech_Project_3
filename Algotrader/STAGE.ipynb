{
 "cells": [
  {
   "cell_type": "code",
   "execution_count": 26,
   "metadata": {},
   "outputs": [],
   "source": [
    "import os\n",
    "import numpy as np\n",
    "import pandas as pd\n",
    "import ccxt\n",
    "import asyncio\n",
    "import sqlite3\n",
    "\n",
    "import hvplot.streamz\n",
    "from streamz import Stream\n",
    "from streamz.dataframe import DataFrame\n",
    "import panel as pn\n",
    "\n",
    "pn.extension()"
   ]
  },
  {
   "cell_type": "code",
   "execution_count": 27,
   "metadata": {},
   "outputs": [],
   "source": [
    "def fetch_data():\n",
    "    \"\"\"Fetches the latest prices.\"\"\"\n",
    "#     kraken_public_key = os.getenv(\"KRAKEN_PUBLIC_KEY\")\n",
    "#     kraken_secret_key = os.getenv(\"KRAKEN_SECRET_KEY\")\n",
    "    binance = ccxt.binance({\"apiKey\": \"BINANCE_PUBLIC_KEY\", \"secret\": \"BINANCE_SECRET_KEY\"})\n",
    "\n",
    "    close = binance.fetch_ticker(\"ETH/USDT\")[\"close\"]\n",
    "    datetime = binance.fetch_ticker(\"ETH/USDT\")[\"datetime\"]\n",
    "    df = pd.DataFrame({\"close\": [close]})\n",
    "    df.index = pd.to_datetime([datetime])\n",
    "    return df"
   ]
  },
  {
   "cell_type": "code",
   "execution_count": 28,
   "metadata": {},
   "outputs": [
    {
     "data": {
      "text/html": [
       "<div>\n",
       "<style scoped>\n",
       "    .dataframe tbody tr th:only-of-type {\n",
       "        vertical-align: middle;\n",
       "    }\n",
       "\n",
       "    .dataframe tbody tr th {\n",
       "        vertical-align: top;\n",
       "    }\n",
       "\n",
       "    .dataframe thead th {\n",
       "        text-align: right;\n",
       "    }\n",
       "</style>\n",
       "<table border=\"1\" class=\"dataframe\">\n",
       "  <thead>\n",
       "    <tr style=\"text-align: right;\">\n",
       "      <th></th>\n",
       "      <th>close</th>\n",
       "    </tr>\n",
       "  </thead>\n",
       "  <tbody>\n",
       "    <tr>\n",
       "      <th>2020-08-27 18:49:34.823000+00:00</th>\n",
       "      <td>378.06</td>\n",
       "    </tr>\n",
       "  </tbody>\n",
       "</table>\n",
       "</div>"
      ],
      "text/plain": [
       "                                   close\n",
       "2020-08-27 18:49:34.823000+00:00  378.06"
      ]
     },
     "execution_count": 28,
     "metadata": {},
     "output_type": "execute_result"
    }
   ],
   "source": [
    "fetch_data()"
   ]
  },
  {
   "cell_type": "code",
   "execution_count": 29,
   "metadata": {},
   "outputs": [
    {
     "data": {
      "text/plain": [
       "str"
      ]
     },
     "execution_count": 29,
     "metadata": {},
     "output_type": "execute_result"
    }
   ],
   "source": [
    "type(\"BINANCE_SECRET_KEY\")"
   ]
  },
  {
   "cell_type": "code",
   "execution_count": 40,
   "metadata": {},
   "outputs": [],
   "source": [
    "def fetch_data():\n",
    "    \"\"\"Fetches the latest prices.\"\"\"\n",
    "#     kraken_public_key = os.getenv(\"KRAKEN_PUBLIC_KEY\")\n",
    "#     kraken_secret_key = os.getenv(\"KRAKEN_SECRET_KEY\")\n",
    "\n",
    "    binance = ccxt.binance({\"apiKey\": \"BINANCE_PUBLIC_KEY\", \"secret\": \"BINANCE_SECRET_KEY\"})\n",
    "\n",
    "    close = binance.fetch_tickers([\"ETH/USDT\", \"LTC/USDT\"])[\"close\"]\n",
    "    datetime = binance.fetch_tickers([\"ETH/USDT\", \"LTC/USDT\"])[\"datetime\"]\n",
    "    df = pd.DataFrame({\"close\": [close]})\n",
    "    df.index = pd.to_datetime([datetime])\n",
    "    return df\n",
    "\n",
    "# def fetch_data2():\n",
    "#     \"\"\"Fetches the latest prices.\"\"\"\n",
    "# #     kraken_public_key = os.getenv(\"KRAKEN_PUBLIC_KEY\")\n",
    "# #     kraken_secret_key = os.getenv(\"KRAKEN_SECRET_KEY\")\n",
    "\n",
    "#     binance = ccxt.binance({\"apiKey\": \"BINANCE_PUBLIC_KEY\", \"secret\": \"BINANCE_SECRET_KEY\"})\n",
    "\n",
    "#     close = binance.fetch_ticker(\"LTC/USDT\")[\"close\"]\n",
    "#     datetime = binance.fetch_ticker(\"LTC/USDT\")[\"datetime\"]\n",
    "#     df2 = pd.DataFrame({\"close\": [close]})\n",
    "#     df2.index = pd.to_datetime([datetime])\n",
    "#     return df2"
   ]
  },
  {
   "cell_type": "code",
   "execution_count": 115,
   "metadata": {},
   "outputs": [],
   "source": [
    "df = binance.fetch_tickers([\"ETH/USDT\",\"LTC/USDT\"])"
   ]
  },
  {
   "cell_type": "code",
   "execution_count": 116,
   "metadata": {},
   "outputs": [
    {
     "data": {
      "text/plain": [
       "{'ETH/USDT': {'symbol': 'ETH/USDT',\n",
       "  'timestamp': 1598557116975,\n",
       "  'datetime': '2020-08-27T19:38:36.975Z',\n",
       "  'high': 397.1,\n",
       "  'low': 371.48,\n",
       "  'bid': 379.18,\n",
       "  'bidVolume': 72.6639,\n",
       "  'ask': 379.19,\n",
       "  'askVolume': 8.453,\n",
       "  'vwap': 384.19817419,\n",
       "  'open': 387.49,\n",
       "  'close': 379.19,\n",
       "  'last': 379.19,\n",
       "  'previousClose': 387.49,\n",
       "  'change': -8.3,\n",
       "  'percentage': -2.142,\n",
       "  'average': None,\n",
       "  'baseVolume': 880647.64524,\n",
       "  'quoteVolume': 338343217.402025,\n",
       "  'info': {'symbol': 'ETHUSDT',\n",
       "   'priceChange': '-8.30000000',\n",
       "   'priceChangePercent': '-2.142',\n",
       "   'weightedAvgPrice': '384.19817419',\n",
       "   'prevClosePrice': '387.49000000',\n",
       "   'lastPrice': '379.19000000',\n",
       "   'lastQty': '0.70384000',\n",
       "   'bidPrice': '379.18000000',\n",
       "   'bidQty': '72.66390000',\n",
       "   'askPrice': '379.19000000',\n",
       "   'askQty': '8.45300000',\n",
       "   'openPrice': '387.49000000',\n",
       "   'highPrice': '397.10000000',\n",
       "   'lowPrice': '371.48000000',\n",
       "   'volume': '880647.64524000',\n",
       "   'quoteVolume': '338343217.40202500',\n",
       "   'openTime': 1598470716975,\n",
       "   'closeTime': 1598557116975,\n",
       "   'firstId': 177332076,\n",
       "   'lastId': 177727414,\n",
       "   'count': 395339}},\n",
       " 'LTC/USDT': {'symbol': 'LTC/USDT',\n",
       "  'timestamp': 1598557116655,\n",
       "  'datetime': '2020-08-27T19:38:36.655Z',\n",
       "  'high': 59.24,\n",
       "  'low': 53.91,\n",
       "  'bid': 55.28,\n",
       "  'bidVolume': 3.0,\n",
       "  'ask': 55.29,\n",
       "  'askVolume': 73.07016,\n",
       "  'vwap': 56.75087915,\n",
       "  'open': 58.49,\n",
       "  'close': 55.29,\n",
       "  'last': 55.29,\n",
       "  'previousClose': 58.54,\n",
       "  'change': -3.2,\n",
       "  'percentage': -5.471,\n",
       "  'average': None,\n",
       "  'baseVolume': 946141.69063,\n",
       "  'quoteVolume': 53694372.7410234,\n",
       "  'info': {'symbol': 'LTCUSDT',\n",
       "   'priceChange': '-3.20000000',\n",
       "   'priceChangePercent': '-5.471',\n",
       "   'weightedAvgPrice': '56.75087915',\n",
       "   'prevClosePrice': '58.54000000',\n",
       "   'lastPrice': '55.29000000',\n",
       "   'lastQty': '21.66000000',\n",
       "   'bidPrice': '55.28000000',\n",
       "   'bidQty': '3.00000000',\n",
       "   'askPrice': '55.29000000',\n",
       "   'askQty': '73.07016000',\n",
       "   'openPrice': '58.49000000',\n",
       "   'highPrice': '59.24000000',\n",
       "   'lowPrice': '53.91000000',\n",
       "   'volume': '946141.69063000',\n",
       "   'quoteVolume': '53694372.74102340',\n",
       "   'openTime': 1598470716655,\n",
       "   'closeTime': 1598557116655,\n",
       "   'firstId': 55973633,\n",
       "   'lastId': 56062470,\n",
       "   'count': 88838}}}"
      ]
     },
     "execution_count": 116,
     "metadata": {},
     "output_type": "execute_result"
    }
   ],
   "source": [
    "df"
   ]
  },
  {
   "cell_type": "code",
   "execution_count": 120,
   "metadata": {},
   "outputs": [
    {
     "ename": "TypeError",
     "evalue": "list indices must be integers or slices, not str",
     "output_type": "error",
     "traceback": [
      "\u001b[1;31m---------------------------------------------------------------------------\u001b[0m",
      "\u001b[1;31mTypeError\u001b[0m                                 Traceback (most recent call last)",
      "\u001b[1;32m<ipython-input-120-cc1c421221ae>\u001b[0m in \u001b[0;36m<module>\u001b[1;34m\u001b[0m\n\u001b[1;32m----> 1\u001b[1;33m \u001b[0mprint\u001b[0m\u001b[1;33m(\u001b[0m\u001b[0mdf\u001b[0m\u001b[1;33m[\u001b[0m\u001b[1;34m\"ETH/USDT\"\u001b[0m\u001b[1;33m]\u001b[0m\u001b[1;33m[\u001b[0m\u001b[1;34m'close'\u001b[0m\u001b[1;33m]\u001b[0m\u001b[1;33m,\u001b[0m\u001b[1;33m[\u001b[0m\u001b[1;34m\"LTC/USDT\"\u001b[0m\u001b[1;33m]\u001b[0m\u001b[1;33m[\u001b[0m\u001b[1;34m'close'\u001b[0m\u001b[1;33m]\u001b[0m\u001b[1;33m)\u001b[0m\u001b[1;33m\u001b[0m\u001b[1;33m\u001b[0m\u001b[0m\n\u001b[0m",
      "\u001b[1;31mTypeError\u001b[0m: list indices must be integers or slices, not str"
     ]
    }
   ],
   "source": [
    "print(df[\"ETH/USDT\"]['close'],[\"LTC/USDT\"]['close'])"
   ]
  },
  {
   "cell_type": "code",
   "execution_count": 118,
   "metadata": {},
   "outputs": [
    {
     "name": "stdout",
     "output_type": "stream",
     "text": [
      "55.29\n"
     ]
    }
   ],
   "source": [
    "print(df[\"LTC/USDT\"]['close'])"
   ]
  },
  {
   "cell_type": "code",
   "execution_count": 107,
   "metadata": {},
   "outputs": [],
   "source": [
    "close_df = pd.DataFrame"
   ]
  },
  {
   "cell_type": "code",
   "execution_count": 68,
   "metadata": {},
   "outputs": [
    {
     "data": {
      "text/plain": [
       "pandas.core.frame.DataFrame"
      ]
     },
     "execution_count": 68,
     "metadata": {},
     "output_type": "execute_result"
    }
   ],
   "source": [
    "close_df"
   ]
  },
  {
   "cell_type": "code",
   "execution_count": 32,
   "metadata": {},
   "outputs": [
    {
     "data": {
      "text/html": [
       "<div>\n",
       "<style scoped>\n",
       "    .dataframe tbody tr th:only-of-type {\n",
       "        vertical-align: middle;\n",
       "    }\n",
       "\n",
       "    .dataframe tbody tr th {\n",
       "        vertical-align: top;\n",
       "    }\n",
       "\n",
       "    .dataframe thead th {\n",
       "        text-align: right;\n",
       "    }\n",
       "</style>\n",
       "<table border=\"1\" class=\"dataframe\">\n",
       "  <thead>\n",
       "    <tr style=\"text-align: right;\">\n",
       "      <th></th>\n",
       "      <th>close</th>\n",
       "    </tr>\n",
       "  </thead>\n",
       "  <tbody>\n",
       "    <tr>\n",
       "      <th>2020-08-27 18:49:39.905000+00:00</th>\n",
       "      <td>378.15</td>\n",
       "    </tr>\n",
       "  </tbody>\n",
       "</table>\n",
       "</div>"
      ],
      "text/plain": [
       "                                   close\n",
       "2020-08-27 18:49:39.905000+00:00  378.15"
      ]
     },
     "execution_count": 32,
     "metadata": {},
     "output_type": "execute_result"
    }
   ],
   "source": [
    "fetch_data()"
   ]
  },
  {
   "cell_type": "code",
   "execution_count": 35,
   "metadata": {},
   "outputs": [
    {
     "ename": "TypeError",
     "evalue": "'function' object cannot be interpreted as an integer",
     "output_type": "error",
     "traceback": [
      "\u001b[1;31m---------------------------------------------------------------------------\u001b[0m",
      "\u001b[1;31mTypeError\u001b[0m                                 Traceback (most recent call last)",
      "\u001b[1;32m<ipython-input-35-bb6fbed61541>\u001b[0m in \u001b[0;36m<module>\u001b[1;34m\u001b[0m\n\u001b[1;32m----> 1\u001b[1;33m \u001b[1;32mfor\u001b[0m \u001b[0mn\u001b[0m \u001b[1;32min\u001b[0m \u001b[0mrange\u001b[0m\u001b[1;33m(\u001b[0m\u001b[0mfetch_data\u001b[0m\u001b[1;33m,\u001b[0m \u001b[0mfetch_data2\u001b[0m\u001b[1;33m)\u001b[0m\u001b[1;33m:\u001b[0m \u001b[1;31m#f_sample is the out-of-sample data\u001b[0m\u001b[1;33m\u001b[0m\u001b[1;33m\u001b[0m\u001b[0m\n\u001b[0m\u001b[0;32m      2\u001b[0m \u001b[1;31m#     df_insample = df.iloc[0 : len(df) - f_sample + n]\u001b[0m\u001b[1;33m\u001b[0m\u001b[1;33m\u001b[0m\u001b[1;33m\u001b[0m\u001b[0m\n\u001b[0;32m      3\u001b[0m     \u001b[0mX\u001b[0m \u001b[1;33m=\u001b[0m \u001b[0mfetch_data\u001b[0m\u001b[1;33m.\u001b[0m\u001b[0mETHUSDT\u001b[0m\u001b[1;33m.\u001b[0m\u001b[0mvalues\u001b[0m\u001b[1;33m.\u001b[0m\u001b[0mreshape\u001b[0m\u001b[1;33m(\u001b[0m\u001b[1;33m-\u001b[0m\u001b[1;36m1\u001b[0m\u001b[1;33m,\u001b[0m \u001b[1;36m1\u001b[0m\u001b[1;33m)\u001b[0m\u001b[1;33m\u001b[0m\u001b[1;33m\u001b[0m\u001b[0m\n\u001b[0;32m      4\u001b[0m     \u001b[0my\u001b[0m \u001b[1;33m=\u001b[0m \u001b[0mfetch_data2\u001b[0m\u001b[1;33m.\u001b[0m\u001b[0mLTCUSDT\u001b[0m\u001b[1;33m\u001b[0m\u001b[1;33m\u001b[0m\u001b[0m\n\u001b[0;32m      5\u001b[0m     \u001b[0mmodel\u001b[0m \u001b[1;33m=\u001b[0m \u001b[0mLinearRegression\u001b[0m\u001b[1;33m(\u001b[0m\u001b[1;33m)\u001b[0m\u001b[1;33m\u001b[0m\u001b[1;33m\u001b[0m\u001b[0m\n",
      "\u001b[1;31mTypeError\u001b[0m: 'function' object cannot be interpreted as an integer"
     ]
    }
   ],
   "source": [
    "for n in range(fetch_data, fetch_data2): #f_sample is the out-of-sample data\n",
    "#     df_insample = df.iloc[0 : len(df) - f_sample + n]\n",
    "    X = fetch_data.ETHUSDT.values.reshape(-1, 1)\n",
    "    y = fetch_data2.LTCUSDT\n",
    "    model = LinearRegression()\n",
    "    model.fit(X, y)\n",
    "    predicted_y_values = model.predict(X)\n",
    "    residuals = fetch_data - predicted_y_values\n",
    "    model_AR = ARMA(residuals.values, order = (1,0))\n",
    "    results = model_AR.fit()\n",
    "    a = results.params[0]\n",
    "    b = results.params[1]\n",
    "    kappa = -np.log(b)\n",
    "    m = a / (1 - np.exp(-kappa))\n",
    "    residuals_shifted = residuals.shift()\n",
    "    residuals2 = residuals - (a + b*residuals_shifted)\n",
    "    residuals2_mean.append(residuals2.mean())\n",
    "    residuals2_std.append(residuals2.std())\n",
    "    sigma_epsilon = residuals2.std()\n",
    "    sigma = sigma_epsilon / np.sqrt( (1 - np.exp(-2*kappa))/(2*kappa))\n",
    "    S.append(- m*np.sqrt(2*kappa)/sigma)"
   ]
  },
  {
   "cell_type": "code",
   "execution_count": null,
   "metadata": {},
   "outputs": [],
   "source": []
  }
 ],
 "metadata": {
  "kernelspec": {
   "display_name": "Python 3",
   "language": "python",
   "name": "python3"
  },
  "language_info": {
   "codemirror_mode": {
    "name": "ipython",
    "version": 3
   },
   "file_extension": ".py",
   "mimetype": "text/x-python",
   "name": "python",
   "nbconvert_exporter": "python",
   "pygments_lexer": "ipython3",
   "version": "3.7.6"
  }
 },
 "nbformat": 4,
 "nbformat_minor": 4
}
