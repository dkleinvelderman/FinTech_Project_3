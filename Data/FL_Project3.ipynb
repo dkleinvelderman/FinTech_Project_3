{
 "cells": [
  {
   "cell_type": "code",
   "execution_count": 39,
   "metadata": {},
   "outputs": [],
   "source": [
    "import pandas as pd\n",
    "from pandas import DataFrame\n",
    "import requests\n",
    "import os\n",
    "import os.path\n",
    "import datetime as dt\n",
    "import json\n",
    "import numpy as np\n",
    "from datetime import timedelta, datetime\n",
    "from dateutil import parser\n",
    "import math\n",
    "%matplotlib inline\n",
    "from matplotlib import pyplot as plt\n",
    "\n",
    "from dotenv import load_dotenv\n",
    "load_dotenv()\n",
    "\n",
    "import warnings\n",
    "warnings.filterwarnings('ignore')"
   ]
  },
  {
   "cell_type": "code",
   "execution_count": 40,
   "metadata": {},
   "outputs": [],
   "source": [
    "# Load environment variables \n",
    "binance_api_key = os.getenv(\"BINANCE_API_KEY\")\n",
    "binance_secret_key= os.getenv(\"BINANCE_SECRET_KEY\")\n"
   ]
  },
  {
   "cell_type": "code",
   "execution_count": 41,
   "metadata": {},
   "outputs": [
    {
     "data": {
      "text/plain": [
       "str"
      ]
     },
     "execution_count": 41,
     "metadata": {},
     "output_type": "execute_result"
    }
   ],
   "source": [
    "type(binance_api_key)"
   ]
  },
  {
   "cell_type": "code",
   "execution_count": 42,
   "metadata": {},
   "outputs": [
    {
     "data": {
      "text/plain": [
       "str"
      ]
     },
     "execution_count": 42,
     "metadata": {},
     "output_type": "execute_result"
    }
   ],
   "source": [
    "type(binance_secret_key)"
   ]
  },
  {
   "cell_type": "code",
   "execution_count": 43,
   "metadata": {},
   "outputs": [],
   "source": [
    "# Set up client \n",
    "from binance.client import Client\n",
    "binance_client = Client(api_key=binance_api_key, api_secret=binance_secret_key)\n",
    "\n",
    "# Constants\n",
    "binsizes = {\"1m\": 1, \"5m\": 5, \"1h\": 60, \"1d\": 1440}\n",
    "batch_size = 750\n",
    "\n",
    "# Create collecting new data function\n",
    "def minutes_of_new_data(symbol, kline_size, data, source):\n",
    "#     if len(data) > 0:  old = datetime.strptime('20 Aug 2020', '%d %b %Y') #<-- Can change start date here\n",
    "    elif source == \"binance\": old = datetime.strptime('20 Aug 2020', '%d %b %Y')\n",
    "    if source == \"binance\": new = pd.to_datetime(binance_client.get_klines(symbol=symbol, interval=kline_size)[-1][0], unit='ms')\n",
    "    return old, new\n",
    "\n",
    "# Create function to retreive tickers and timestamps\n",
    "def get_all_binance(symbol, kline_size, save = False):\n",
    "    filename = '%s-%s-data.csv' % (symbol, kline_size)\n",
    "    if os.path.isfile(filename): data_df = pd.read_csv(filename)\n",
    "    else: data_df = pd.DataFrame()\n",
    "    oldest_point, newest_point = minutes_of_new_data(symbol, kline_size, data_df, source = \"binance\")\n",
    "    delta_min = (newest_point - oldest_point).total_seconds()/60\n",
    "    available_data = math.ceil(delta_min/binsizes[kline_size])\n",
    "    if oldest_point == datetime.strptime('20 Aug 2020', '%d %b %Y'): print('Downloading all available %s data for %s. Be patient..!' % (kline_size, symbol))\n",
    "    else: print('Downloading %d minutes of new data available for %s, i.e. %d instances of %s data.' % (delta_min, symbol, available_data, kline_size))\n",
    "    klines = binance_client.get_historical_klines(symbol, kline_size, oldest_point.strftime(\"%d %b %Y %H:%M:%S\"), newest_point.strftime(\"%d %b %Y %H:%M:%S\"))\n",
    "    data = pd.DataFrame(klines, columns = ['timestamp', 'open', 'high', 'low', 'close', 'volume', 'close_time', 'quote_av', 'trades', 'tb_base_av', 'tb_quote_av', 'ignore' ])\n",
    "    data['timestamp'] = pd.to_datetime(data['timestamp'], unit='ms')\n",
    "    if len(data_df) > 0:\n",
    "        temp_df = pd.DataFrame(data)\n",
    "        data_df = data_df.append(temp_df)\n",
    "    else: data_df = data\n",
    "    data_df.set_index('timestamp', inplace=True)\n",
    "    if save: data_df.to_csv(filename)\n",
    "    print('All caught up..!')\n",
    "    return data_df"
   ]
  },
  {
   "cell_type": "markdown",
   "metadata": {},
   "source": [
    "### Coins Ranked by trade Volume according to (coinmartketcap.com): <font color=red> [ETH, EOS, LTC, LINK]</font>"
   ]
  },
  {
   "cell_type": "markdown",
   "metadata": {},
   "source": [
    "ALL PRICES ARE IN RELATION TO USDT\n"
   ]
  },
  {
   "cell_type": "code",
   "execution_count": 45,
   "metadata": {},
   "outputs": [
    {
     "name": "stdout",
     "output_type": "stream",
     "text": [
      "Downloading all available 1m data for ETHUSDT. Be patient..!\n",
      "All caught up..!\n"
     ]
    }
   ],
   "source": [
    "# Get Ethereum data\n",
    "eth_data=get_all_binance('ETHUSDT', '1m')\n",
    "eth_data=eth_data.loc[:,['close']]\n",
    "eth_data=eth_data.rename(columns={'close':'ETH Close'})"
   ]
  },
  {
   "cell_type": "code",
   "execution_count": 47,
   "metadata": {},
   "outputs": [
    {
     "data": {
      "text/html": [
       "<div>\n",
       "<style scoped>\n",
       "    .dataframe tbody tr th:only-of-type {\n",
       "        vertical-align: middle;\n",
       "    }\n",
       "\n",
       "    .dataframe tbody tr th {\n",
       "        vertical-align: top;\n",
       "    }\n",
       "\n",
       "    .dataframe thead th {\n",
       "        text-align: right;\n",
       "    }\n",
       "</style>\n",
       "<table border=\"1\" class=\"dataframe\">\n",
       "  <thead>\n",
       "    <tr style=\"text-align: right;\">\n",
       "      <th></th>\n",
       "      <th>ETH Close</th>\n",
       "    </tr>\n",
       "    <tr>\n",
       "      <th>timestamp</th>\n",
       "      <th></th>\n",
       "    </tr>\n",
       "  </thead>\n",
       "  <tbody>\n",
       "    <tr>\n",
       "      <th>2020-08-20 00:00:00</th>\n",
       "      <td>408.65000000</td>\n",
       "    </tr>\n",
       "    <tr>\n",
       "      <th>2020-08-20 00:01:00</th>\n",
       "      <td>410.19000000</td>\n",
       "    </tr>\n",
       "    <tr>\n",
       "      <th>2020-08-20 00:02:00</th>\n",
       "      <td>410.66000000</td>\n",
       "    </tr>\n",
       "    <tr>\n",
       "      <th>2020-08-20 00:03:00</th>\n",
       "      <td>410.57000000</td>\n",
       "    </tr>\n",
       "    <tr>\n",
       "      <th>2020-08-20 00:04:00</th>\n",
       "      <td>411.53000000</td>\n",
       "    </tr>\n",
       "  </tbody>\n",
       "</table>\n",
       "</div>"
      ],
      "text/plain": [
       "                        ETH Close\n",
       "timestamp                        \n",
       "2020-08-20 00:00:00  408.65000000\n",
       "2020-08-20 00:01:00  410.19000000\n",
       "2020-08-20 00:02:00  410.66000000\n",
       "2020-08-20 00:03:00  410.57000000\n",
       "2020-08-20 00:04:00  411.53000000"
      ]
     },
     "execution_count": 47,
     "metadata": {},
     "output_type": "execute_result"
    }
   ],
   "source": [
    "eth_data.head()"
   ]
  },
  {
   "cell_type": "code",
   "execution_count": 49,
   "metadata": {},
   "outputs": [],
   "source": [
    "eth_data.to_csv('eth_usd_min.csv')"
   ]
  },
  {
   "cell_type": "code",
   "execution_count": 50,
   "metadata": {},
   "outputs": [
    {
     "name": "stdout",
     "output_type": "stream",
     "text": [
      "Downloading all available 1m data for LINKUSDT. Be patient..!\n",
      "All caught up..!\n"
     ]
    }
   ],
   "source": [
    "# Get chainlink data\n",
    "link_data=get_all_binance('LINKUSDT', '1m')\n",
    "link_data=link_data.loc[:,['close']]\n",
    "link_data=link_data.rename(columns={'close':'LINK Close'})"
   ]
  },
  {
   "cell_type": "code",
   "execution_count": 51,
   "metadata": {},
   "outputs": [
    {
     "data": {
      "text/html": [
       "<div>\n",
       "<style scoped>\n",
       "    .dataframe tbody tr th:only-of-type {\n",
       "        vertical-align: middle;\n",
       "    }\n",
       "\n",
       "    .dataframe tbody tr th {\n",
       "        vertical-align: top;\n",
       "    }\n",
       "\n",
       "    .dataframe thead th {\n",
       "        text-align: right;\n",
       "    }\n",
       "</style>\n",
       "<table border=\"1\" class=\"dataframe\">\n",
       "  <thead>\n",
       "    <tr style=\"text-align: right;\">\n",
       "      <th></th>\n",
       "      <th>LINK Close</th>\n",
       "    </tr>\n",
       "    <tr>\n",
       "      <th>timestamp</th>\n",
       "      <th></th>\n",
       "    </tr>\n",
       "  </thead>\n",
       "  <tbody>\n",
       "    <tr>\n",
       "      <th>2020-08-20 00:00:00</th>\n",
       "      <td>16.23130000</td>\n",
       "    </tr>\n",
       "    <tr>\n",
       "      <th>2020-08-20 00:01:00</th>\n",
       "      <td>16.26730000</td>\n",
       "    </tr>\n",
       "    <tr>\n",
       "      <th>2020-08-20 00:02:00</th>\n",
       "      <td>16.27280000</td>\n",
       "    </tr>\n",
       "    <tr>\n",
       "      <th>2020-08-20 00:03:00</th>\n",
       "      <td>16.30980000</td>\n",
       "    </tr>\n",
       "    <tr>\n",
       "      <th>2020-08-20 00:04:00</th>\n",
       "      <td>16.31820000</td>\n",
       "    </tr>\n",
       "  </tbody>\n",
       "</table>\n",
       "</div>"
      ],
      "text/plain": [
       "                      LINK Close\n",
       "timestamp                       \n",
       "2020-08-20 00:00:00  16.23130000\n",
       "2020-08-20 00:01:00  16.26730000\n",
       "2020-08-20 00:02:00  16.27280000\n",
       "2020-08-20 00:03:00  16.30980000\n",
       "2020-08-20 00:04:00  16.31820000"
      ]
     },
     "execution_count": 51,
     "metadata": {},
     "output_type": "execute_result"
    }
   ],
   "source": [
    "link_data.head()"
   ]
  },
  {
   "cell_type": "code",
   "execution_count": 52,
   "metadata": {},
   "outputs": [],
   "source": [
    "link_data.to_csv('link_usd_min.csv')"
   ]
  },
  {
   "cell_type": "code",
   "execution_count": 55,
   "metadata": {},
   "outputs": [
    {
     "name": "stdout",
     "output_type": "stream",
     "text": [
      "Downloading all available 1m data for LTCUSDT. Be patient..!\n",
      "All caught up..!\n"
     ]
    }
   ],
   "source": [
    "# Get LITECOIN data\n",
    "ltc_data=get_all_binance('LTCUSDT', '1m')\n",
    "ltc_data=ltc_data.loc[:,['close']]\n",
    "ltc_data=ltc_data.rename(columns={'close':'LTC Close'})"
   ]
  },
  {
   "cell_type": "code",
   "execution_count": 56,
   "metadata": {},
   "outputs": [
    {
     "data": {
      "text/html": [
       "<div>\n",
       "<style scoped>\n",
       "    .dataframe tbody tr th:only-of-type {\n",
       "        vertical-align: middle;\n",
       "    }\n",
       "\n",
       "    .dataframe tbody tr th {\n",
       "        vertical-align: top;\n",
       "    }\n",
       "\n",
       "    .dataframe thead th {\n",
       "        text-align: right;\n",
       "    }\n",
       "</style>\n",
       "<table border=\"1\" class=\"dataframe\">\n",
       "  <thead>\n",
       "    <tr style=\"text-align: right;\">\n",
       "      <th></th>\n",
       "      <th>LTC Close</th>\n",
       "    </tr>\n",
       "    <tr>\n",
       "      <th>timestamp</th>\n",
       "      <th></th>\n",
       "    </tr>\n",
       "  </thead>\n",
       "  <tbody>\n",
       "    <tr>\n",
       "      <th>2020-08-20 00:00:00</th>\n",
       "      <td>62.20000000</td>\n",
       "    </tr>\n",
       "    <tr>\n",
       "      <th>2020-08-20 00:01:00</th>\n",
       "      <td>62.42000000</td>\n",
       "    </tr>\n",
       "    <tr>\n",
       "      <th>2020-08-20 00:02:00</th>\n",
       "      <td>62.41000000</td>\n",
       "    </tr>\n",
       "    <tr>\n",
       "      <th>2020-08-20 00:03:00</th>\n",
       "      <td>62.65000000</td>\n",
       "    </tr>\n",
       "    <tr>\n",
       "      <th>2020-08-20 00:04:00</th>\n",
       "      <td>62.76000000</td>\n",
       "    </tr>\n",
       "  </tbody>\n",
       "</table>\n",
       "</div>"
      ],
      "text/plain": [
       "                       LTC Close\n",
       "timestamp                       \n",
       "2020-08-20 00:00:00  62.20000000\n",
       "2020-08-20 00:01:00  62.42000000\n",
       "2020-08-20 00:02:00  62.41000000\n",
       "2020-08-20 00:03:00  62.65000000\n",
       "2020-08-20 00:04:00  62.76000000"
      ]
     },
     "execution_count": 56,
     "metadata": {},
     "output_type": "execute_result"
    }
   ],
   "source": [
    "ltc_data.head()"
   ]
  },
  {
   "cell_type": "code",
   "execution_count": 57,
   "metadata": {},
   "outputs": [],
   "source": [
    "ltc_data.to_csv('ltc_usd_min.csv')"
   ]
  },
  {
   "cell_type": "code",
   "execution_count": 59,
   "metadata": {},
   "outputs": [
    {
     "name": "stdout",
     "output_type": "stream",
     "text": [
      "Downloading all available 1m data for EOSUSDT. Be patient..!\n",
      "All caught up..!\n"
     ]
    }
   ],
   "source": [
    "# Get EOS data\n",
    "eos_data=get_all_binance('EOSUSDT', '1m')\n",
    "eos_data=eos_data.loc[:,['close']]\n",
    "eos_data=eos_data.rename(columns={'close':'EOS Close'})"
   ]
  },
  {
   "cell_type": "code",
   "execution_count": 60,
   "metadata": {},
   "outputs": [
    {
     "data": {
      "text/html": [
       "<div>\n",
       "<style scoped>\n",
       "    .dataframe tbody tr th:only-of-type {\n",
       "        vertical-align: middle;\n",
       "    }\n",
       "\n",
       "    .dataframe tbody tr th {\n",
       "        vertical-align: top;\n",
       "    }\n",
       "\n",
       "    .dataframe thead th {\n",
       "        text-align: right;\n",
       "    }\n",
       "</style>\n",
       "<table border=\"1\" class=\"dataframe\">\n",
       "  <thead>\n",
       "    <tr style=\"text-align: right;\">\n",
       "      <th></th>\n",
       "      <th>EOS Close</th>\n",
       "    </tr>\n",
       "    <tr>\n",
       "      <th>timestamp</th>\n",
       "      <th></th>\n",
       "    </tr>\n",
       "  </thead>\n",
       "  <tbody>\n",
       "    <tr>\n",
       "      <th>2020-08-20 00:00:00</th>\n",
       "      <td>3.35000000</td>\n",
       "    </tr>\n",
       "    <tr>\n",
       "      <th>2020-08-20 00:01:00</th>\n",
       "      <td>3.35910000</td>\n",
       "    </tr>\n",
       "    <tr>\n",
       "      <th>2020-08-20 00:02:00</th>\n",
       "      <td>3.35790000</td>\n",
       "    </tr>\n",
       "    <tr>\n",
       "      <th>2020-08-20 00:03:00</th>\n",
       "      <td>3.36250000</td>\n",
       "    </tr>\n",
       "    <tr>\n",
       "      <th>2020-08-20 00:04:00</th>\n",
       "      <td>3.36600000</td>\n",
       "    </tr>\n",
       "  </tbody>\n",
       "</table>\n",
       "</div>"
      ],
      "text/plain": [
       "                      EOS Close\n",
       "timestamp                      \n",
       "2020-08-20 00:00:00  3.35000000\n",
       "2020-08-20 00:01:00  3.35910000\n",
       "2020-08-20 00:02:00  3.35790000\n",
       "2020-08-20 00:03:00  3.36250000\n",
       "2020-08-20 00:04:00  3.36600000"
      ]
     },
     "execution_count": 60,
     "metadata": {},
     "output_type": "execute_result"
    }
   ],
   "source": [
    "eos_data.head()"
   ]
  },
  {
   "cell_type": "code",
   "execution_count": 61,
   "metadata": {},
   "outputs": [],
   "source": [
    "eos_data.to_csv('eos_btc_min.csv')"
   ]
  }
 ],
 "metadata": {
  "kernelspec": {
   "display_name": "Python 3",
   "language": "python",
   "name": "python3"
  },
  "language_info": {
   "codemirror_mode": {
    "name": "ipython",
    "version": 3
   },
   "file_extension": ".py",
   "mimetype": "text/x-python",
   "name": "python",
   "nbconvert_exporter": "python",
   "pygments_lexer": "ipython3",
   "version": "3.7.6"
  }
 },
 "nbformat": 4,
 "nbformat_minor": 4
}
